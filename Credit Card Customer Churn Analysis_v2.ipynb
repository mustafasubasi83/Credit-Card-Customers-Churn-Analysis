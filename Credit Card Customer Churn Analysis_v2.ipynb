{
 "cells": [
  {
   "cell_type": "markdown",
   "metadata": {},
   "source": [
    "# Credit Card Customers Churn Analysis "
   ]
  },
  {
   "cell_type": "markdown",
   "metadata": {},
   "source": [
    "This notebook aims to predict churned customers and exploratory analysis of insights related to the Credit Card Customers dataset taken from the Kaggle platform for Udacity \"Write a Data Scientist Blog Post\" project\n",
    "\n",
    "Description and context: A bank manager is in a scenario where several customers are leaving their credit card services. It would be extremely interesting for the company to be able to predict the customers most likely to leave such services so that, in this way, the bank can act preventively in order to offer better services in favor of maintaining the customer.\n",
    "\n",
    "[...] The data set has 10,000 customers with attributes such as age, salary, marital status, credit limit, card category, among others. There are approximately 18 features in the whole set and there are only 16.0% of customers with churn"
   ]
  },
  {
   "cell_type": "markdown",
   "metadata": {},
   "source": [
    "## 1_Business and Data Understanding \n",
    "\n",
    "The goal of this notebook is to answer both tasks given for the \"Credit Card Customers\" - dataset.\n",
    "\n",
    "The first goal of this project is to provide an analysis which shows the difference between a non-churning and churning customer. This will provide us insight into which customers are eager to churn.\n",
    "\n",
    "The top priority of this case is to identify if a customer will churn or won't. It's important that we don't predict churning as non-churning customers. That's why the model needs to be evaluated on the \"Recall\"- metric (goal > 62%).\n",
    "\n",
    "- How many customers have some attrition with the bank?\n",
    "- How demographic variables are impact to earger the churn ?\n",
    "- How are the relationship with the variables vs churn ? \n",
    "- What are the diffirences between Non Churn and Churn Profiles ? "
   ]
  },
  {
   "cell_type": "markdown",
   "metadata": {},
   "source": [
    "## Data Preprocessing for Business and Data Understanding\n"
   ]
  },
  {
   "cell_type": "markdown",
   "metadata": {},
   "source": [
    "### Importing Necessary Libraries for Business Understanding Data Process"
   ]
  },
  {
   "cell_type": "code",
   "execution_count": 1,
   "metadata": {},
   "outputs": [],
   "source": [
    "# Used for EDA, Customer profiling\n",
    "import numpy as np\n",
    "import pandas as pd\n",
    "import matplotlib.pyplot as plt\n",
    "import seaborn as sns\n",
    "\n",
    "# Presets\n",
    "%matplotlib inline\n",
    "sns.set()"
   ]
  },
  {
   "cell_type": "markdown",
   "metadata": {},
   "source": [
    "### Data Set\n",
    "\n",
    "The building block of any data science project is the data. Underneed you can find one data record which will be used in further analysis. The dataset consist of 10000 samples describing the customers and it's behavior.\n",
    "\n",
    "The following columns/features can be split up in the following groups:\n",
    "\n",
    "* ***Unique Id***:\n",
    "    * **CLIENTNUM** : Unique identifier for the customer holding the account.\n",
    "\n",
    "\n",
    "* ***Target/Label***:\n",
    "    * **Attrition_Flag**: Internal event (customer activity) variable - Existing Customer / Attrited Customer\n",
    "\n",
    "\n",
    "* ***Demographic variables***:\n",
    "    * **Customer_Age**: Demographic variable - Customer's Age in Years.\n",
    "    * **Gender**: Demographic variable - M=Male, F=Female.\n",
    "    * **Dependent_count**: Demographic variable - Number of dependents.\n",
    "    * **Education_Level**: Demographic variable - Educational Qualification of the account holder (example: high school, college graduate, etc.).\n",
    "    * **Marital_Status**: Demographic variable - Married, Single, Divorced, Unknown.\n",
    "    * **Income_Category**: Demographic variable - Annual Income Category of the account holder (< $40K, $40K - 60K, $60K - $80K, $80K-$120K, >).\n",
    "    \n",
    "\n",
    "* ***Product variables***:\n",
    "    * **Card_Category**: Product Variable - Type of Card (Blue, Silver, Gold, Platinum).\n",
    "    * **Months_on_book**: Period of relationship with bank.\n",
    "    * **Total_Relationship_Count**: Total no. of products held by the customer.\n",
    "    * **Months_Inactive_12_mon**: No. of Months in the last 12 months.\n",
    "    * **Contacts_Count_12_mon**: No. of Contacts in the last 12 months.\n",
    "    * **Credit_Limit**: Credit Limit on the Credit Card.\n",
    "    * **Total_Revolving_Bal**: Total Revolving Balance on the Credit Card.\n",
    "    * **Avg_Open_To_Buy**: Open to Buy Credit Line (Average of last 12 months\n",
    "    * **Total_Amt_Chng_Q4_Q1**: Change in Transaction Amount (Q4 over Q1).\n",
    "    * **Total_Trans_Amt**: Total Transaction Amount (Last 12 months).\n",
    "    * **Total_Trans_Ct**: Total Transaction Count (Last 12 months).\n",
    "    * **Total_Ct_Chng_Q4_Q1**: Change in Transaction Count (Q4 over Q1).\n",
    "    * **Avg_Utilization_Ratio**: Average Card Utilization Ratio.\n",
    "\n",
    "\n",
    "* ***Unimportant variables***:\n",
    "    * **Naive_Bayes**: It was mentioned that all columns containing the \"N.B.\"-tag should be disregarded.\n"
   ]
  },
  {
   "cell_type": "code",
   "execution_count": 2,
   "metadata": {},
   "outputs": [
    {
     "data": {
      "text/html": [
       "<div>\n",
       "<style scoped>\n",
       "    .dataframe tbody tr th:only-of-type {\n",
       "        vertical-align: middle;\n",
       "    }\n",
       "\n",
       "    .dataframe tbody tr th {\n",
       "        vertical-align: top;\n",
       "    }\n",
       "\n",
       "    .dataframe thead th {\n",
       "        text-align: right;\n",
       "    }\n",
       "</style>\n",
       "<table border=\"1\" class=\"dataframe\">\n",
       "  <thead>\n",
       "    <tr style=\"text-align: right;\">\n",
       "      <th></th>\n",
       "      <th>CLIENTNUM</th>\n",
       "      <th>Attrition_Flag</th>\n",
       "      <th>Customer_Age</th>\n",
       "      <th>Gender</th>\n",
       "      <th>Dependent_count</th>\n",
       "      <th>Education_Level</th>\n",
       "      <th>Marital_Status</th>\n",
       "      <th>Income_Category</th>\n",
       "      <th>Card_Category</th>\n",
       "      <th>Months_on_book</th>\n",
       "      <th>...</th>\n",
       "      <th>Credit_Limit</th>\n",
       "      <th>Total_Revolving_Bal</th>\n",
       "      <th>Avg_Open_To_Buy</th>\n",
       "      <th>Total_Amt_Chng_Q4_Q1</th>\n",
       "      <th>Total_Trans_Amt</th>\n",
       "      <th>Total_Trans_Ct</th>\n",
       "      <th>Total_Ct_Chng_Q4_Q1</th>\n",
       "      <th>Avg_Utilization_Ratio</th>\n",
       "      <th>Naive_Bayes_Classifier_Attrition_Flag_Card_Category_Contacts_Count_12_mon_Dependent_count_Education_Level_Months_Inactive_12_mon_1</th>\n",
       "      <th>Naive_Bayes_Classifier_Attrition_Flag_Card_Category_Contacts_Count_12_mon_Dependent_count_Education_Level_Months_Inactive_12_mon_2</th>\n",
       "    </tr>\n",
       "  </thead>\n",
       "  <tbody>\n",
       "    <tr>\n",
       "      <td>0</td>\n",
       "      <td>768805383</td>\n",
       "      <td>Existing Customer</td>\n",
       "      <td>45</td>\n",
       "      <td>M</td>\n",
       "      <td>3</td>\n",
       "      <td>High School</td>\n",
       "      <td>Married</td>\n",
       "      <td>$60K - $80K</td>\n",
       "      <td>Blue</td>\n",
       "      <td>39</td>\n",
       "      <td>...</td>\n",
       "      <td>12691.0</td>\n",
       "      <td>777</td>\n",
       "      <td>11914.0</td>\n",
       "      <td>1.335</td>\n",
       "      <td>1144</td>\n",
       "      <td>42</td>\n",
       "      <td>1.625</td>\n",
       "      <td>0.061</td>\n",
       "      <td>0.000093</td>\n",
       "      <td>0.99991</td>\n",
       "    </tr>\n",
       "    <tr>\n",
       "      <td>1</td>\n",
       "      <td>818770008</td>\n",
       "      <td>Existing Customer</td>\n",
       "      <td>49</td>\n",
       "      <td>F</td>\n",
       "      <td>5</td>\n",
       "      <td>Graduate</td>\n",
       "      <td>Single</td>\n",
       "      <td>Less than $40K</td>\n",
       "      <td>Blue</td>\n",
       "      <td>44</td>\n",
       "      <td>...</td>\n",
       "      <td>8256.0</td>\n",
       "      <td>864</td>\n",
       "      <td>7392.0</td>\n",
       "      <td>1.541</td>\n",
       "      <td>1291</td>\n",
       "      <td>33</td>\n",
       "      <td>3.714</td>\n",
       "      <td>0.105</td>\n",
       "      <td>0.000057</td>\n",
       "      <td>0.99994</td>\n",
       "    </tr>\n",
       "    <tr>\n",
       "      <td>2</td>\n",
       "      <td>713982108</td>\n",
       "      <td>Existing Customer</td>\n",
       "      <td>51</td>\n",
       "      <td>M</td>\n",
       "      <td>3</td>\n",
       "      <td>Graduate</td>\n",
       "      <td>Married</td>\n",
       "      <td>$80K - $120K</td>\n",
       "      <td>Blue</td>\n",
       "      <td>36</td>\n",
       "      <td>...</td>\n",
       "      <td>3418.0</td>\n",
       "      <td>0</td>\n",
       "      <td>3418.0</td>\n",
       "      <td>2.594</td>\n",
       "      <td>1887</td>\n",
       "      <td>20</td>\n",
       "      <td>2.333</td>\n",
       "      <td>0.000</td>\n",
       "      <td>0.000021</td>\n",
       "      <td>0.99998</td>\n",
       "    </tr>\n",
       "    <tr>\n",
       "      <td>3</td>\n",
       "      <td>769911858</td>\n",
       "      <td>Existing Customer</td>\n",
       "      <td>40</td>\n",
       "      <td>F</td>\n",
       "      <td>4</td>\n",
       "      <td>High School</td>\n",
       "      <td>Unknown</td>\n",
       "      <td>Less than $40K</td>\n",
       "      <td>Blue</td>\n",
       "      <td>34</td>\n",
       "      <td>...</td>\n",
       "      <td>3313.0</td>\n",
       "      <td>2517</td>\n",
       "      <td>796.0</td>\n",
       "      <td>1.405</td>\n",
       "      <td>1171</td>\n",
       "      <td>20</td>\n",
       "      <td>2.333</td>\n",
       "      <td>0.760</td>\n",
       "      <td>0.000134</td>\n",
       "      <td>0.99987</td>\n",
       "    </tr>\n",
       "    <tr>\n",
       "      <td>4</td>\n",
       "      <td>709106358</td>\n",
       "      <td>Existing Customer</td>\n",
       "      <td>40</td>\n",
       "      <td>M</td>\n",
       "      <td>3</td>\n",
       "      <td>Uneducated</td>\n",
       "      <td>Married</td>\n",
       "      <td>$60K - $80K</td>\n",
       "      <td>Blue</td>\n",
       "      <td>21</td>\n",
       "      <td>...</td>\n",
       "      <td>4716.0</td>\n",
       "      <td>0</td>\n",
       "      <td>4716.0</td>\n",
       "      <td>2.175</td>\n",
       "      <td>816</td>\n",
       "      <td>28</td>\n",
       "      <td>2.500</td>\n",
       "      <td>0.000</td>\n",
       "      <td>0.000022</td>\n",
       "      <td>0.99998</td>\n",
       "    </tr>\n",
       "  </tbody>\n",
       "</table>\n",
       "<p>5 rows × 23 columns</p>\n",
       "</div>"
      ],
      "text/plain": [
       "   CLIENTNUM     Attrition_Flag  Customer_Age Gender  Dependent_count  \\\n",
       "0  768805383  Existing Customer            45      M                3   \n",
       "1  818770008  Existing Customer            49      F                5   \n",
       "2  713982108  Existing Customer            51      M                3   \n",
       "3  769911858  Existing Customer            40      F                4   \n",
       "4  709106358  Existing Customer            40      M                3   \n",
       "\n",
       "  Education_Level Marital_Status Income_Category Card_Category  \\\n",
       "0     High School        Married     $60K - $80K          Blue   \n",
       "1        Graduate         Single  Less than $40K          Blue   \n",
       "2        Graduate        Married    $80K - $120K          Blue   \n",
       "3     High School        Unknown  Less than $40K          Blue   \n",
       "4      Uneducated        Married     $60K - $80K          Blue   \n",
       "\n",
       "   Months_on_book  ...  Credit_Limit  Total_Revolving_Bal  Avg_Open_To_Buy  \\\n",
       "0              39  ...       12691.0                  777          11914.0   \n",
       "1              44  ...        8256.0                  864           7392.0   \n",
       "2              36  ...        3418.0                    0           3418.0   \n",
       "3              34  ...        3313.0                 2517            796.0   \n",
       "4              21  ...        4716.0                    0           4716.0   \n",
       "\n",
       "   Total_Amt_Chng_Q4_Q1  Total_Trans_Amt  Total_Trans_Ct  Total_Ct_Chng_Q4_Q1  \\\n",
       "0                 1.335             1144              42                1.625   \n",
       "1                 1.541             1291              33                3.714   \n",
       "2                 2.594             1887              20                2.333   \n",
       "3                 1.405             1171              20                2.333   \n",
       "4                 2.175              816              28                2.500   \n",
       "\n",
       "   Avg_Utilization_Ratio  \\\n",
       "0                  0.061   \n",
       "1                  0.105   \n",
       "2                  0.000   \n",
       "3                  0.760   \n",
       "4                  0.000   \n",
       "\n",
       "   Naive_Bayes_Classifier_Attrition_Flag_Card_Category_Contacts_Count_12_mon_Dependent_count_Education_Level_Months_Inactive_12_mon_1  \\\n",
       "0                                           0.000093                                                                                    \n",
       "1                                           0.000057                                                                                    \n",
       "2                                           0.000021                                                                                    \n",
       "3                                           0.000134                                                                                    \n",
       "4                                           0.000022                                                                                    \n",
       "\n",
       "   Naive_Bayes_Classifier_Attrition_Flag_Card_Category_Contacts_Count_12_mon_Dependent_count_Education_Level_Months_Inactive_12_mon_2  \n",
       "0                                            0.99991                                                                                   \n",
       "1                                            0.99994                                                                                   \n",
       "2                                            0.99998                                                                                   \n",
       "3                                            0.99987                                                                                   \n",
       "4                                            0.99998                                                                                   \n",
       "\n",
       "[5 rows x 23 columns]"
      ]
     },
     "execution_count": 2,
     "metadata": {},
     "output_type": "execute_result"
    }
   ],
   "source": [
    "#Read csv file, from your local machine and quick look the dataset\n",
    "df = pd.read_csv('./BankChurners.csv')\n",
    "df.head()"
   ]
  },
  {
   "cell_type": "markdown",
   "metadata": {},
   "source": [
    "### Data Preprocessing\n",
    "In this phase we'll quickly explore the data and remove/impute incorrect values. So that a cleaned data can be used for further analysis/modelling.\n",
    "\n",
    "* Remove unnecessary columns.\n",
    "* Check for duplicates.\n",
    "* Change ID to client number.\n",
    "* Check for null values."
   ]
  },
  {
   "cell_type": "code",
   "execution_count": 3,
   "metadata": {},
   "outputs": [],
   "source": [
    "# Copy Original Dataset, \n",
    "df_original=df.copy()\n",
    "\n",
    "# Removing the unnecessary columns, these columns are unimportant\n",
    "df = df.drop(columns= ['Naive_Bayes_Classifier_Attrition_Flag_Card_Category_Contacts_Count_12_mon_Dependent_count_Education_Level_Months_Inactive_12_mon_1','Naive_Bayes_Classifier_Attrition_Flag_Card_Category_Contacts_Count_12_mon_Dependent_count_Education_Level_Months_Inactive_12_mon_2'])"
   ]
  },
  {
   "cell_type": "code",
   "execution_count": 4,
   "metadata": {},
   "outputs": [
    {
     "data": {
      "text/plain": [
       "Index(['CLIENTNUM', 'Attrition_Flag', 'Customer_Age', 'Gender',\n",
       "       'Dependent_count', 'Education_Level', 'Marital_Status',\n",
       "       'Income_Category', 'Card_Category', 'Months_on_book',\n",
       "       'Total_Relationship_Count', 'Months_Inactive_12_mon',\n",
       "       'Contacts_Count_12_mon', 'Credit_Limit', 'Total_Revolving_Bal',\n",
       "       'Avg_Open_To_Buy', 'Total_Amt_Chng_Q4_Q1', 'Total_Trans_Amt',\n",
       "       'Total_Trans_Ct', 'Total_Ct_Chng_Q4_Q1', 'Avg_Utilization_Ratio'],\n",
       "      dtype='object')"
      ]
     },
     "execution_count": 4,
     "metadata": {},
     "output_type": "execute_result"
    }
   ],
   "source": [
    "# Quick look at column names\n",
    "df.columns"
   ]
  },
  {
   "cell_type": "code",
   "execution_count": 5,
   "metadata": {},
   "outputs": [
    {
     "name": "stdout",
     "output_type": "stream",
     "text": [
      "<class 'pandas.core.frame.DataFrame'>\n",
      "RangeIndex: 10127 entries, 0 to 10126\n",
      "Data columns (total 21 columns):\n",
      "CLIENTNUM                   10127 non-null int64\n",
      "Attrition_Flag              10127 non-null object\n",
      "Customer_Age                10127 non-null int64\n",
      "Gender                      10127 non-null object\n",
      "Dependent_count             10127 non-null int64\n",
      "Education_Level             10127 non-null object\n",
      "Marital_Status              10127 non-null object\n",
      "Income_Category             10127 non-null object\n",
      "Card_Category               10127 non-null object\n",
      "Months_on_book              10127 non-null int64\n",
      "Total_Relationship_Count    10127 non-null int64\n",
      "Months_Inactive_12_mon      10127 non-null int64\n",
      "Contacts_Count_12_mon       10127 non-null int64\n",
      "Credit_Limit                10127 non-null float64\n",
      "Total_Revolving_Bal         10127 non-null int64\n",
      "Avg_Open_To_Buy             10127 non-null float64\n",
      "Total_Amt_Chng_Q4_Q1        10127 non-null float64\n",
      "Total_Trans_Amt             10127 non-null int64\n",
      "Total_Trans_Ct              10127 non-null int64\n",
      "Total_Ct_Chng_Q4_Q1         10127 non-null float64\n",
      "Avg_Utilization_Ratio       10127 non-null float64\n",
      "dtypes: float64(5), int64(10), object(6)\n",
      "memory usage: 1.6+ MB\n"
     ]
    }
   ],
   "source": [
    "# Look at variables info\n",
    "df.info()"
   ]
  },
  {
   "cell_type": "code",
   "execution_count": 6,
   "metadata": {},
   "outputs": [
    {
     "data": {
      "text/plain": [
       "False"
      ]
     },
     "execution_count": 6,
     "metadata": {},
     "output_type": "execute_result"
    }
   ],
   "source": [
    "# Check for duplicates, True if duplicates are present\n",
    "df.duplicated().any()\n",
    "\n",
    "## No duplicate variables are found."
   ]
  },
  {
   "cell_type": "code",
   "execution_count": 7,
   "metadata": {},
   "outputs": [
    {
     "name": "stdout",
     "output_type": "stream",
     "text": [
      "No Missing valeus are found\n"
     ]
    }
   ],
   "source": [
    "# Check for missing values, the number of columns with any missing values\n",
    "\n",
    "if df.columns[df.isnull().sum() > 0].shape[0] > 0:\n",
    "    df.columns[df.isnull.sum() >0]\n",
    "else:\n",
    "    print(\"No Missing valeus are found\")"
   ]
  },
  {
   "cell_type": "code",
   "execution_count": 8,
   "metadata": {},
   "outputs": [],
   "source": [
    "# Change the ID to the ClientNumber\n",
    "# Client number is a unique identifier variable\n",
    "df = df.set_index(\"CLIENTNUM\")"
   ]
  },
  {
   "cell_type": "markdown",
   "metadata": {},
   "source": [
    "To understand better impact of age, I create a new age column with 20 year bins. For this, I use pandas-cut function. You find details of this function : https://pandas.pydata.org/pandas-docs/stable/reference/api/pandas.cut.html"
   ]
  },
  {
   "cell_type": "code",
   "execution_count": 9,
   "metadata": {},
   "outputs": [
    {
     "data": {
      "text/plain": [
       "CLIENTNUM\n",
       "768805383    40-50\n",
       "818770008    40-50\n",
       "713982108    50-60\n",
       "769911858    30-40\n",
       "709106358    30-40\n",
       "713061558    40-50\n",
       "810347208    50-60\n",
       "818906208    30-40\n",
       "710930508    30-40\n",
       "719661558    40-50\n",
       "Name: Age_Range, dtype: category\n",
       "Categories (5, object): [20-30 < 30-40 < 40-50 < 50-60 < 60+]"
      ]
     },
     "execution_count": 9,
     "metadata": {},
     "output_type": "execute_result"
    }
   ],
   "source": [
    "# Create a new column (Age_Range) with 20-year bins\n",
    "df['Age_Range'] = pd.cut(x=df['Customer_Age'], bins=[20, 30, 40, 50, 60, 80], labels= ['20-30','30-40','40-50','50-60','60+'])\n",
    "df['Age_Range'].head(10)"
   ]
  },
  {
   "cell_type": "code",
   "execution_count": 10,
   "metadata": {},
   "outputs": [
    {
     "name": "stdout",
     "output_type": "stream",
     "text": [
      "(1627, 21)\n",
      "(8500, 21)\n"
     ]
    }
   ],
   "source": [
    "# subset data frame 2 group \n",
    "churned = df[df['Attrition_Flag'] == 'Attrited Customer']# Subset df to only those with churned of 1\n",
    "notchurned= df[df['Attrition_Flag'] == 'Existing Customer'] # Subset df to only those with notchurned of 0\n",
    "\n",
    "print((churned.shape))\n",
    "print((notchurned.shape))"
   ]
  },
  {
   "cell_type": "markdown",
   "metadata": {},
   "source": [
    "### Question1 - How many customers have some attrition with the bank ?\n",
    "\n",
    "In order to understand how many customers have some attrition, we will look at the Attrition_Flag field.\n",
    "\n",
    "**Attrition_Flag:** Internal event (customer activity) variable - Existing Customer / Attrited Customer\n",
    "\n",
    "\n",
    "**Results:** The graph below reveals that approximately 16% of the customers present at the base have some type of friction with the financial institution. This is an important slice of analysis, given that it basically represents the target audience of customers who, in some way, are not comfortable with the services offered by this financial institution."
   ]
  },
  {
   "cell_type": "code",
   "execution_count": 11,
   "metadata": {},
   "outputs": [
    {
     "data": {
      "image/png": "[encoded data removed]",
      "text/plain": [
       "<Figure size 432x288 with 1 Axes>"
      ]
     },
     "metadata": {},
     "output_type": "display_data"
    },
    {
     "name": "stdout",
     "output_type": "stream",
     "text": [
      "Existing Customer    8500\n",
      "Attrited Customer    1627\n",
      "Name: Attrition_Flag, dtype: int64\n"
     ]
    }
   ],
   "source": [
    "# Create a new column for Attrited Customer\n",
    "# Existing 'Attrition_Flag' column is an object column, we create e new numeric variable for model and analysis\n",
    "# Attrited Customer = 1, Existing Customer = 0 \n",
    "df['AttritedFlag'] = np.where( df['Attrition_Flag'] == 'Attrited Customer', 1, 0) \n",
    "\n",
    "# Create a pie chart for Attrition_Flag\n",
    "target = df[\"Attrition_Flag\"].value_counts()\n",
    "\n",
    "fig1, ax1 = plt.subplots()\n",
    "\n",
    "ax1.pie(target, labels=target.index, autopct='%1.1f%%', shadow=None)\n",
    "ax1.axis('equal')\n",
    "plt.title(\"Amount of churned customers\", fontsize=14)\n",
    "plt.show()\n",
    "\n",
    "print (target)"
   ]
  },
  {
   "cell_type": "markdown",
   "metadata": {},
   "source": [
    "### Question2 - How demographic variables are impact to earger the churn ?\n",
    "\n",
    "In this first exploratory analysis session, demographic variables present in the database, such as age, gender, dependents, education, among others, will be discussed. The objective is to understand the public of this banking institution a little better and to cross these factors with other key variables that can better define possible customer migrations.\n",
    "\n",
    "We analyze that how demografic variables which are **\"Age\", \"Gender\", \"Education Level\", \"Income Category\", \"Number of products bought\", \"Months Inactive\"** impact to customer churn.\n",
    "\n",
    "**Results:**\n",
    "- Age variable is not impact to customer churn.\n",
    "- The difference is too small to say that one gender is more eager to churn.\n",
    "- The \"Education level\" - distribution of the churn/nonchurned customers shows no difference.\n",
    "- We notice that \"Income category\" 60K-80K customer's churned ratio seperate a little bit (%3) from the overall churn ratio.\n",
    "- The non churned customers tend to buy more products (more than 3 products) then the churned customers.\n",
    "- We notice that grader than 1 month inactivity in the last 1 year is impact to churn.\n",
    "\n"
   ]
  },
  {
   "cell_type": "markdown",
   "metadata": {},
   "source": [
    "#### Age vs Churn\n",
    "\n",
    "The graphs below shows an normal distribution for the age variable and, therefore, it is noticed that age variable is not impact to churn."
   ]
  },
  {
   "cell_type": "code",
   "execution_count": 12,
   "metadata": {},
   "outputs": [
    {
     "data": {
      "image/png": "[encoded data removed]",
      "text/plain": [
       "<Figure size 432x288 with 1 Axes>"
      ]
     },
     "metadata": {
      "needs_background": "light"
     },
     "output_type": "display_data"
    }
   ],
   "source": [
    "# Checking the overal age distribution histogram graph.\n",
    "df[\"Customer_Age\"].hist()\n",
    "plt.xlabel(\"Age\")\n",
    "plt.ylabel(\"Amount of customers\")\n",
    "plt.title(\"Age distribution\", fontsize=15)\n",
    "plt.show()"
   ]
  },
  {
   "cell_type": "code",
   "execution_count": 13,
   "metadata": {},
   "outputs": [
    {
     "data": {
      "text/plain": [
       "Age_Range\n",
       "40-50    779\n",
       "50-60    448\n",
       "30-40    310\n",
       "60+       58\n",
       "20-30     32\n",
       "Name: AttritedFlag, dtype: int32"
      ]
     },
     "execution_count": 13,
     "metadata": {},
     "output_type": "execute_result"
    }
   ],
   "source": [
    "df.groupby(by='Age_Range')['AttritedFlag'].sum().sort_values(ascending=False)"
   ]
  },
  {
   "cell_type": "code",
   "execution_count": 14,
   "metadata": {},
   "outputs": [],
   "source": [
    "# Define a new user-defined function which create a summary table for analyze that how selected variable impact to customer churn.\n",
    "\n",
    "def table(main_df, df1, df2, col):\n",
    "    '''\n",
    "    INPUT:\n",
    "    main_df - main dataframe with all variables\n",
    "    df1 - Subset df which target group is 1.(for this axample churned customer)\n",
    "    df2 - Subset df which target group is 0.(for this axample not-churned customer)\n",
    "    col - column's name of the data frame\n",
    "    \n",
    "    OUTPUT:\n",
    "    comp_df - a new sumary table with selected column variables. Table has the following info:\n",
    "            1.Frenquency Ratio\n",
    "            2.Not-Churned Percentile\n",
    "            3.Churned Percenile\n",
    "            4.Diffirence between overall churned ratio and \n",
    "    '''\n",
    "    # overall churned ratio colculated\n",
    "    overall_churned_perc = (main_df['AttritedFlag'].sum()/main_df.shape[0]).round(2)\n",
    "    print('Overall Churned Ratio:', overall_churned_perc)\n",
    "    \n",
    "    freq_ratio = (main_df[col].value_counts()/main_df.shape[0]).round(2) #1.Frenquency Ratio\n",
    "    notchurned_perc = (df2[col].value_counts()/main_df[col].value_counts()).round(2)#2.Not-Churned Percentile\n",
    "    churned_perc = (df1[col].value_counts()/main_df[col].value_counts()).round(2) #3.Churned Percenile\n",
    "    \n",
    "\n",
    "    comp_df = pd.merge(freq_ratio,(pd.merge(notchurned_perc, churned_perc, left_index=True, right_index=True)), left_index=True, right_index=True )\n",
    "    comp_df.columns = ['freq_ratio','notchurned_perc', 'churned_perc' ]\n",
    "    comp_df['Diff_overall'] = (main_df['AttritedFlag'].sum()/main_df.shape[0]).round(2) - comp_df['churned_perc']\n",
    "    \n",
    "    return comp_df.style.bar(subset=['freq_ratio','Diff_overall'], align='mid', color=['#d65f5f', '#5fba7d'])"
   ]
  },
  {
   "cell_type": "code",
   "execution_count": 15,
   "metadata": {},
   "outputs": [
    {
     "data": {
      "text/plain": [
       "Index(['Attrition_Flag', 'Customer_Age', 'Gender', 'Dependent_count',\n",
       "       'Education_Level', 'Marital_Status', 'Income_Category', 'Card_Category',\n",
       "       'Months_on_book', 'Total_Relationship_Count', 'Months_Inactive_12_mon',\n",
       "       'Contacts_Count_12_mon', 'Credit_Limit', 'Total_Revolving_Bal',\n",
       "       'Avg_Open_To_Buy', 'Total_Amt_Chng_Q4_Q1', 'Total_Trans_Amt',\n",
       "       'Total_Trans_Ct', 'Total_Ct_Chng_Q4_Q1', 'Avg_Utilization_Ratio',\n",
       "       'Age_Range', 'AttritedFlag'],\n",
       "      dtype='object')"
      ]
     },
     "execution_count": 15,
     "metadata": {},
     "output_type": "execute_result"
    }
   ],
   "source": [
    "df.columns"
   ]
  },
  {
   "cell_type": "code",
   "execution_count": 16,
   "metadata": {},
   "outputs": [
    {
     "name": "stdout",
     "output_type": "stream",
     "text": [
      "Overall Churned Ratio: 0.16\n"
     ]
    },
    {
     "data": {
      "text/html": [
       "<style  type=\"text/css\" >\n",
       "    #T_f14cd8fe_4aab_11eb_b9f7_94e6f7daa8b2row0_col0 {\n",
       "            width:  10em;\n",
       "             height:  80%;\n",
       "            background:  linear-gradient(90deg,#5fba7d 100.0%, transparent 100.0%);\n",
       "        }    #T_f14cd8fe_4aab_11eb_b9f7_94e6f7daa8b2row0_col3 {\n",
       "            width:  10em;\n",
       "             height:  80%;\n",
       "            background:  linear-gradient(90deg,#d65f5f 20.0%, transparent 20.0%);\n",
       "        }    #T_f14cd8fe_4aab_11eb_b9f7_94e6f7daa8b2row1_col0 {\n",
       "            width:  10em;\n",
       "             height:  80%;\n",
       "            background:  linear-gradient(90deg,#5fba7d 56.5%, transparent 56.5%);\n",
       "        }    #T_f14cd8fe_4aab_11eb_b9f7_94e6f7daa8b2row1_col3 {\n",
       "            width:  10em;\n",
       "             height:  80%;\n",
       "            background:  linear-gradient(90deg,#d65f5f 20.0%, transparent 20.0%);\n",
       "        }    #T_f14cd8fe_4aab_11eb_b9f7_94e6f7daa8b2row2_col0 {\n",
       "            width:  10em;\n",
       "             height:  80%;\n",
       "            background:  linear-gradient(90deg,#5fba7d 45.7%, transparent 45.7%);\n",
       "        }    #T_f14cd8fe_4aab_11eb_b9f7_94e6f7daa8b2row2_col3 {\n",
       "            width:  10em;\n",
       "             height:  80%;\n",
       "            background:  linear-gradient(90deg, transparent 20.0%, #5fba7d 20.0%, #5fba7d 40.0%, transparent 40.0%);\n",
       "        }    #T_f14cd8fe_4aab_11eb_b9f7_94e6f7daa8b2row3_col0 {\n",
       "            width:  10em;\n",
       "             height:  80%;\n",
       "            background:  linear-gradient(90deg,#5fba7d 8.7%, transparent 8.7%);\n",
       "        }    #T_f14cd8fe_4aab_11eb_b9f7_94e6f7daa8b2row3_col3 {\n",
       "            width:  10em;\n",
       "             height:  80%;\n",
       "            background:  linear-gradient(90deg, transparent 20.0%, #5fba7d 20.0%, #5fba7d 60.0%, transparent 60.0%);\n",
       "        }    #T_f14cd8fe_4aab_11eb_b9f7_94e6f7daa8b2row4_col0 {\n",
       "            width:  10em;\n",
       "             height:  80%;\n",
       "            background:  linear-gradient(90deg,#5fba7d 6.5%, transparent 6.5%);\n",
       "        }    #T_f14cd8fe_4aab_11eb_b9f7_94e6f7daa8b2row4_col3 {\n",
       "            width:  10em;\n",
       "             height:  80%;\n",
       "            background:  linear-gradient(90deg, transparent 20.0%, #5fba7d 20.0%, #5fba7d 100.0%, transparent 100.0%);\n",
       "        }</style><table id=\"T_f14cd8fe_4aab_11eb_b9f7_94e6f7daa8b2\" ><thead>    <tr>        <th class=\"blank level0\" ></th>        <th class=\"col_heading level0 col0\" >freq_ratio</th>        <th class=\"col_heading level0 col1\" >notchurned_perc</th>        <th class=\"col_heading level0 col2\" >churned_perc</th>        <th class=\"col_heading level0 col3\" >Diff_overall</th>    </tr></thead><tbody>\n",
       "                <tr>\n",
       "                        <th id=\"T_f14cd8fe_4aab_11eb_b9f7_94e6f7daa8b2level0_row0\" class=\"row_heading level0 row0\" >40-50</th>\n",
       "                        <td id=\"T_f14cd8fe_4aab_11eb_b9f7_94e6f7daa8b2row0_col0\" class=\"data row0 col0\" >0.46</td>\n",
       "                        <td id=\"T_f14cd8fe_4aab_11eb_b9f7_94e6f7daa8b2row0_col1\" class=\"data row0 col1\" >0.83</td>\n",
       "                        <td id=\"T_f14cd8fe_4aab_11eb_b9f7_94e6f7daa8b2row0_col2\" class=\"data row0 col2\" >0.17</td>\n",
       "                        <td id=\"T_f14cd8fe_4aab_11eb_b9f7_94e6f7daa8b2row0_col3\" class=\"data row0 col3\" >-0.01</td>\n",
       "            </tr>\n",
       "            <tr>\n",
       "                        <th id=\"T_f14cd8fe_4aab_11eb_b9f7_94e6f7daa8b2level0_row1\" class=\"row_heading level0 row1\" >50-60</th>\n",
       "                        <td id=\"T_f14cd8fe_4aab_11eb_b9f7_94e6f7daa8b2row1_col0\" class=\"data row1 col0\" >0.26</td>\n",
       "                        <td id=\"T_f14cd8fe_4aab_11eb_b9f7_94e6f7daa8b2row1_col1\" class=\"data row1 col1\" >0.83</td>\n",
       "                        <td id=\"T_f14cd8fe_4aab_11eb_b9f7_94e6f7daa8b2row1_col2\" class=\"data row1 col2\" >0.17</td>\n",
       "                        <td id=\"T_f14cd8fe_4aab_11eb_b9f7_94e6f7daa8b2row1_col3\" class=\"data row1 col3\" >-0.01</td>\n",
       "            </tr>\n",
       "            <tr>\n",
       "                        <th id=\"T_f14cd8fe_4aab_11eb_b9f7_94e6f7daa8b2level0_row2\" class=\"row_heading level0 row2\" >30-40</th>\n",
       "                        <td id=\"T_f14cd8fe_4aab_11eb_b9f7_94e6f7daa8b2row2_col0\" class=\"data row2 col0\" >0.21</td>\n",
       "                        <td id=\"T_f14cd8fe_4aab_11eb_b9f7_94e6f7daa8b2row2_col1\" class=\"data row2 col1\" >0.85</td>\n",
       "                        <td id=\"T_f14cd8fe_4aab_11eb_b9f7_94e6f7daa8b2row2_col2\" class=\"data row2 col2\" >0.15</td>\n",
       "                        <td id=\"T_f14cd8fe_4aab_11eb_b9f7_94e6f7daa8b2row2_col3\" class=\"data row2 col3\" >0.01</td>\n",
       "            </tr>\n",
       "            <tr>\n",
       "                        <th id=\"T_f14cd8fe_4aab_11eb_b9f7_94e6f7daa8b2level0_row3\" class=\"row_heading level0 row3\" >60+</th>\n",
       "                        <td id=\"T_f14cd8fe_4aab_11eb_b9f7_94e6f7daa8b2row3_col0\" class=\"data row3 col0\" >0.04</td>\n",
       "                        <td id=\"T_f14cd8fe_4aab_11eb_b9f7_94e6f7daa8b2row3_col1\" class=\"data row3 col1\" >0.86</td>\n",
       "                        <td id=\"T_f14cd8fe_4aab_11eb_b9f7_94e6f7daa8b2row3_col2\" class=\"data row3 col2\" >0.14</td>\n",
       "                        <td id=\"T_f14cd8fe_4aab_11eb_b9f7_94e6f7daa8b2row3_col3\" class=\"data row3 col3\" >0.02</td>\n",
       "            </tr>\n",
       "            <tr>\n",
       "                        <th id=\"T_f14cd8fe_4aab_11eb_b9f7_94e6f7daa8b2level0_row4\" class=\"row_heading level0 row4\" >20-30</th>\n",
       "                        <td id=\"T_f14cd8fe_4aab_11eb_b9f7_94e6f7daa8b2row4_col0\" class=\"data row4 col0\" >0.03</td>\n",
       "                        <td id=\"T_f14cd8fe_4aab_11eb_b9f7_94e6f7daa8b2row4_col1\" class=\"data row4 col1\" >0.88</td>\n",
       "                        <td id=\"T_f14cd8fe_4aab_11eb_b9f7_94e6f7daa8b2row4_col2\" class=\"data row4 col2\" >0.12</td>\n",
       "                        <td id=\"T_f14cd8fe_4aab_11eb_b9f7_94e6f7daa8b2row4_col3\" class=\"data row4 col3\" >0.04</td>\n",
       "            </tr>\n",
       "    </tbody></table>"
      ],
      "text/plain": [
       "<pandas.io.formats.style.Styler at 0x1fd70f1eb08>"
      ]
     },
     "execution_count": 16,
     "metadata": {},
     "output_type": "execute_result"
    }
   ],
   "source": [
    "# summary table for analyze that how Age impact to customer churn\n",
    "# use new user-defined function \n",
    "table(df,churned,notchurned,'Age_Range')"
   ]
  },
  {
   "cell_type": "markdown",
   "metadata": {},
   "source": [
    "#### Gender vs Churn\n",
    "\n",
    "The difference is too small to say that one gender is more eager to churn."
   ]
  },
  {
   "cell_type": "code",
   "execution_count": 17,
   "metadata": {},
   "outputs": [
    {
     "data": {
      "text/plain": [
       "Text(0, 0.5, '# of customers')"
      ]
     },
     "execution_count": 17,
     "metadata": {},
     "output_type": "execute_result"
    },
    {
     "data": {
      "image/png": "[encoded data removed]",
      "text/plain": [
       "<Figure size 432x288 with 1 Axes>"
      ]
     },
     "metadata": {
      "needs_background": "light"
     },
     "output_type": "display_data"
    }
   ],
   "source": [
    "# Checking the gender distribution grouped by AttritedFlag\n",
    "\n",
    "%matplotlib inline\n",
    "pd.crosstab(df['Gender'], df['AttritedFlag']).plot(kind='bar')\n",
    "plt.title('Gender Churn rate')\n",
    "plt.xlabel('Gender')\n",
    "plt.ylabel('# of customers')"
   ]
  },
  {
   "cell_type": "code",
   "execution_count": 18,
   "metadata": {},
   "outputs": [
    {
     "name": "stdout",
     "output_type": "stream",
     "text": [
      "Overall Churned Ratio: 0.16\n"
     ]
    },
    {
     "data": {
      "text/html": [
       "<style  type=\"text/css\" >\n",
       "    #T_f360f81e_4aab_11eb_8a82_94e6f7daa8b2row0_col0 {\n",
       "            width:  10em;\n",
       "             height:  80%;\n",
       "            background:  linear-gradient(90deg,#5fba7d 100.0%, transparent 100.0%);\n",
       "        }    #T_f360f81e_4aab_11eb_8a82_94e6f7daa8b2row0_col3 {\n",
       "            width:  10em;\n",
       "             height:  80%;\n",
       "            background:  linear-gradient(90deg,#d65f5f 50.0%, transparent 50.0%);\n",
       "        }    #T_f360f81e_4aab_11eb_8a82_94e6f7daa8b2row1_col0 {\n",
       "            width:  10em;\n",
       "             height:  80%;\n",
       "            background:  linear-gradient(90deg,#5fba7d 88.7%, transparent 88.7%);\n",
       "        }    #T_f360f81e_4aab_11eb_8a82_94e6f7daa8b2row1_col3 {\n",
       "            width:  10em;\n",
       "             height:  80%;\n",
       "            background:  linear-gradient(90deg, transparent 50.0%, #5fba7d 50.0%, #5fba7d 100.0%, transparent 100.0%);\n",
       "        }</style><table id=\"T_f360f81e_4aab_11eb_8a82_94e6f7daa8b2\" ><thead>    <tr>        <th class=\"blank level0\" ></th>        <th class=\"col_heading level0 col0\" >freq_ratio</th>        <th class=\"col_heading level0 col1\" >notchurned_perc</th>        <th class=\"col_heading level0 col2\" >churned_perc</th>        <th class=\"col_heading level0 col3\" >Diff_overall</th>    </tr></thead><tbody>\n",
       "                <tr>\n",
       "                        <th id=\"T_f360f81e_4aab_11eb_8a82_94e6f7daa8b2level0_row0\" class=\"row_heading level0 row0\" >F</th>\n",
       "                        <td id=\"T_f360f81e_4aab_11eb_8a82_94e6f7daa8b2row0_col0\" class=\"data row0 col0\" >0.53</td>\n",
       "                        <td id=\"T_f360f81e_4aab_11eb_8a82_94e6f7daa8b2row0_col1\" class=\"data row0 col1\" >0.83</td>\n",
       "                        <td id=\"T_f360f81e_4aab_11eb_8a82_94e6f7daa8b2row0_col2\" class=\"data row0 col2\" >0.17</td>\n",
       "                        <td id=\"T_f360f81e_4aab_11eb_8a82_94e6f7daa8b2row0_col3\" class=\"data row0 col3\" >-0.01</td>\n",
       "            </tr>\n",
       "            <tr>\n",
       "                        <th id=\"T_f360f81e_4aab_11eb_8a82_94e6f7daa8b2level0_row1\" class=\"row_heading level0 row1\" >M</th>\n",
       "                        <td id=\"T_f360f81e_4aab_11eb_8a82_94e6f7daa8b2row1_col0\" class=\"data row1 col0\" >0.47</td>\n",
       "                        <td id=\"T_f360f81e_4aab_11eb_8a82_94e6f7daa8b2row1_col1\" class=\"data row1 col1\" >0.85</td>\n",
       "                        <td id=\"T_f360f81e_4aab_11eb_8a82_94e6f7daa8b2row1_col2\" class=\"data row1 col2\" >0.15</td>\n",
       "                        <td id=\"T_f360f81e_4aab_11eb_8a82_94e6f7daa8b2row1_col3\" class=\"data row1 col3\" >0.01</td>\n",
       "            </tr>\n",
       "    </tbody></table>"
      ],
      "text/plain": [
       "<pandas.io.formats.style.Styler at 0x1fd70f40dc8>"
      ]
     },
     "execution_count": 18,
     "metadata": {},
     "output_type": "execute_result"
    }
   ],
   "source": [
    "# summary table for analyze that how Gender impact to customer churn\n",
    "# use new user-defined function \n",
    "table(df,churned,notchurned, 'Gender')"
   ]
  },
  {
   "cell_type": "markdown",
   "metadata": {},
   "source": [
    "#### Education level vs churn\n",
    "\n",
    "The \"Education level\" - distribution of the churn/nonchurned customers shows no difference.\n",
    "The majority of people has a graduate education level followed by graduate and high school. 15% of the population has an unknown education level."
   ]
  },
  {
   "cell_type": "code",
   "execution_count": 19,
   "metadata": {},
   "outputs": [
    {
     "data": {
      "text/plain": [
       "Text(0, 0.5, '# of customers')"
      ]
     },
     "execution_count": 19,
     "metadata": {},
     "output_type": "execute_result"
    },
    {
     "data": {
      "image/png": "[encoded data removed]",
      "text/plain": [
       "<Figure size 432x288 with 1 Axes>"
      ]
     },
     "metadata": {
      "needs_background": "light"
     },
     "output_type": "display_data"
    }
   ],
   "source": [
    "# Checking the education level distribution grouped by AttritedFlag\n",
    "%matplotlib inline\n",
    "pd.crosstab(df['Education_Level'], df['AttritedFlag']).plot(kind='bar')\n",
    "plt.title('Education_Level Churn rate')\n",
    "plt.xlabel('Education_Level')\n",
    "plt.ylabel('# of customers')"
   ]
  },
  {
   "cell_type": "code",
   "execution_count": 20,
   "metadata": {},
   "outputs": [
    {
     "name": "stdout",
     "output_type": "stream",
     "text": [
      "Overall Churned Ratio: 0.16\n"
     ]
    },
    {
     "data": {
      "text/html": [
       "<style  type=\"text/css\" >\n",
       "    #T_f54ffc5a_4aab_11eb_a7ff_94e6f7daa8b2row0_col0 {\n",
       "            width:  10em;\n",
       "             height:  80%;\n",
       "            background:  linear-gradient(90deg,#5fba7d 100.0%, transparent 100.0%);\n",
       "        }    #T_f54ffc5a_4aab_11eb_a7ff_94e6f7daa8b2row0_col3 {\n",
       "            width:  10em;\n",
       "             height:  80%;\n",
       "        }    #T_f54ffc5a_4aab_11eb_a7ff_94e6f7daa8b2row1_col0 {\n",
       "            width:  10em;\n",
       "             height:  80%;\n",
       "            background:  linear-gradient(90deg,#5fba7d 64.5%, transparent 64.5%);\n",
       "        }    #T_f54ffc5a_4aab_11eb_a7ff_94e6f7daa8b2row1_col3 {\n",
       "            width:  10em;\n",
       "             height:  80%;\n",
       "            background:  linear-gradient(90deg, transparent 83.3%, #5fba7d 83.3%, #5fba7d 100.0%, transparent 100.0%);\n",
       "        }    #T_f54ffc5a_4aab_11eb_a7ff_94e6f7daa8b2row2_col0 {\n",
       "            width:  10em;\n",
       "             height:  80%;\n",
       "            background:  linear-gradient(90deg,#5fba7d 48.4%, transparent 48.4%);\n",
       "        }    #T_f54ffc5a_4aab_11eb_a7ff_94e6f7daa8b2row2_col3 {\n",
       "            width:  10em;\n",
       "             height:  80%;\n",
       "            background:  linear-gradient(90deg, transparent 66.7%, #d65f5f 66.7%, #d65f5f 83.3%, transparent 83.3%);\n",
       "        }    #T_f54ffc5a_4aab_11eb_a7ff_94e6f7daa8b2row3_col0 {\n",
       "            width:  10em;\n",
       "             height:  80%;\n",
       "            background:  linear-gradient(90deg,#5fba7d 48.4%, transparent 48.4%);\n",
       "        }    #T_f54ffc5a_4aab_11eb_a7ff_94e6f7daa8b2row3_col3 {\n",
       "            width:  10em;\n",
       "             height:  80%;\n",
       "        }    #T_f54ffc5a_4aab_11eb_a7ff_94e6f7daa8b2row4_col0 {\n",
       "            width:  10em;\n",
       "             height:  80%;\n",
       "            background:  linear-gradient(90deg,#5fba7d 32.3%, transparent 32.3%);\n",
       "        }    #T_f54ffc5a_4aab_11eb_a7ff_94e6f7daa8b2row4_col3 {\n",
       "            width:  10em;\n",
       "             height:  80%;\n",
       "            background:  linear-gradient(90deg, transparent 83.3%, #5fba7d 83.3%, #5fba7d 100.0%, transparent 100.0%);\n",
       "        }    #T_f54ffc5a_4aab_11eb_a7ff_94e6f7daa8b2row5_col0 {\n",
       "            width:  10em;\n",
       "             height:  80%;\n",
       "            background:  linear-gradient(90deg,#5fba7d 16.1%, transparent 16.1%);\n",
       "        }    #T_f54ffc5a_4aab_11eb_a7ff_94e6f7daa8b2row5_col3 {\n",
       "            width:  10em;\n",
       "             height:  80%;\n",
       "            background:  linear-gradient(90deg, transparent 50.0%, #d65f5f 50.0%, #d65f5f 83.3%, transparent 83.3%);\n",
       "        }    #T_f54ffc5a_4aab_11eb_a7ff_94e6f7daa8b2row6_col0 {\n",
       "            width:  10em;\n",
       "             height:  80%;\n",
       "            background:  linear-gradient(90deg,#5fba7d 12.9%, transparent 12.9%);\n",
       "        }    #T_f54ffc5a_4aab_11eb_a7ff_94e6f7daa8b2row6_col3 {\n",
       "            width:  10em;\n",
       "             height:  80%;\n",
       "            background:  linear-gradient(90deg,#d65f5f 83.3%, transparent 83.3%);\n",
       "        }</style><table id=\"T_f54ffc5a_4aab_11eb_a7ff_94e6f7daa8b2\" ><thead>    <tr>        <th class=\"blank level0\" ></th>        <th class=\"col_heading level0 col0\" >freq_ratio</th>        <th class=\"col_heading level0 col1\" >notchurned_perc</th>        <th class=\"col_heading level0 col2\" >churned_perc</th>        <th class=\"col_heading level0 col3\" >Diff_overall</th>    </tr></thead><tbody>\n",
       "                <tr>\n",
       "                        <th id=\"T_f54ffc5a_4aab_11eb_a7ff_94e6f7daa8b2level0_row0\" class=\"row_heading level0 row0\" >Graduate</th>\n",
       "                        <td id=\"T_f54ffc5a_4aab_11eb_a7ff_94e6f7daa8b2row0_col0\" class=\"data row0 col0\" >0.31</td>\n",
       "                        <td id=\"T_f54ffc5a_4aab_11eb_a7ff_94e6f7daa8b2row0_col1\" class=\"data row0 col1\" >0.84</td>\n",
       "                        <td id=\"T_f54ffc5a_4aab_11eb_a7ff_94e6f7daa8b2row0_col2\" class=\"data row0 col2\" >0.16</td>\n",
       "                        <td id=\"T_f54ffc5a_4aab_11eb_a7ff_94e6f7daa8b2row0_col3\" class=\"data row0 col3\" >0</td>\n",
       "            </tr>\n",
       "            <tr>\n",
       "                        <th id=\"T_f54ffc5a_4aab_11eb_a7ff_94e6f7daa8b2level0_row1\" class=\"row_heading level0 row1\" >High School</th>\n",
       "                        <td id=\"T_f54ffc5a_4aab_11eb_a7ff_94e6f7daa8b2row1_col0\" class=\"data row1 col0\" >0.2</td>\n",
       "                        <td id=\"T_f54ffc5a_4aab_11eb_a7ff_94e6f7daa8b2row1_col1\" class=\"data row1 col1\" >0.85</td>\n",
       "                        <td id=\"T_f54ffc5a_4aab_11eb_a7ff_94e6f7daa8b2row1_col2\" class=\"data row1 col2\" >0.15</td>\n",
       "                        <td id=\"T_f54ffc5a_4aab_11eb_a7ff_94e6f7daa8b2row1_col3\" class=\"data row1 col3\" >0.01</td>\n",
       "            </tr>\n",
       "            <tr>\n",
       "                        <th id=\"T_f54ffc5a_4aab_11eb_a7ff_94e6f7daa8b2level0_row2\" class=\"row_heading level0 row2\" >Unknown</th>\n",
       "                        <td id=\"T_f54ffc5a_4aab_11eb_a7ff_94e6f7daa8b2row2_col0\" class=\"data row2 col0\" >0.15</td>\n",
       "                        <td id=\"T_f54ffc5a_4aab_11eb_a7ff_94e6f7daa8b2row2_col1\" class=\"data row2 col1\" >0.83</td>\n",
       "                        <td id=\"T_f54ffc5a_4aab_11eb_a7ff_94e6f7daa8b2row2_col2\" class=\"data row2 col2\" >0.17</td>\n",
       "                        <td id=\"T_f54ffc5a_4aab_11eb_a7ff_94e6f7daa8b2row2_col3\" class=\"data row2 col3\" >-0.01</td>\n",
       "            </tr>\n",
       "            <tr>\n",
       "                        <th id=\"T_f54ffc5a_4aab_11eb_a7ff_94e6f7daa8b2level0_row3\" class=\"row_heading level0 row3\" >Uneducated</th>\n",
       "                        <td id=\"T_f54ffc5a_4aab_11eb_a7ff_94e6f7daa8b2row3_col0\" class=\"data row3 col0\" >0.15</td>\n",
       "                        <td id=\"T_f54ffc5a_4aab_11eb_a7ff_94e6f7daa8b2row3_col1\" class=\"data row3 col1\" >0.84</td>\n",
       "                        <td id=\"T_f54ffc5a_4aab_11eb_a7ff_94e6f7daa8b2row3_col2\" class=\"data row3 col2\" >0.16</td>\n",
       "                        <td id=\"T_f54ffc5a_4aab_11eb_a7ff_94e6f7daa8b2row3_col3\" class=\"data row3 col3\" >0</td>\n",
       "            </tr>\n",
       "            <tr>\n",
       "                        <th id=\"T_f54ffc5a_4aab_11eb_a7ff_94e6f7daa8b2level0_row4\" class=\"row_heading level0 row4\" >College</th>\n",
       "                        <td id=\"T_f54ffc5a_4aab_11eb_a7ff_94e6f7daa8b2row4_col0\" class=\"data row4 col0\" >0.1</td>\n",
       "                        <td id=\"T_f54ffc5a_4aab_11eb_a7ff_94e6f7daa8b2row4_col1\" class=\"data row4 col1\" >0.85</td>\n",
       "                        <td id=\"T_f54ffc5a_4aab_11eb_a7ff_94e6f7daa8b2row4_col2\" class=\"data row4 col2\" >0.15</td>\n",
       "                        <td id=\"T_f54ffc5a_4aab_11eb_a7ff_94e6f7daa8b2row4_col3\" class=\"data row4 col3\" >0.01</td>\n",
       "            </tr>\n",
       "            <tr>\n",
       "                        <th id=\"T_f54ffc5a_4aab_11eb_a7ff_94e6f7daa8b2level0_row5\" class=\"row_heading level0 row5\" >Post-Graduate</th>\n",
       "                        <td id=\"T_f54ffc5a_4aab_11eb_a7ff_94e6f7daa8b2row5_col0\" class=\"data row5 col0\" >0.05</td>\n",
       "                        <td id=\"T_f54ffc5a_4aab_11eb_a7ff_94e6f7daa8b2row5_col1\" class=\"data row5 col1\" >0.82</td>\n",
       "                        <td id=\"T_f54ffc5a_4aab_11eb_a7ff_94e6f7daa8b2row5_col2\" class=\"data row5 col2\" >0.18</td>\n",
       "                        <td id=\"T_f54ffc5a_4aab_11eb_a7ff_94e6f7daa8b2row5_col3\" class=\"data row5 col3\" >-0.02</td>\n",
       "            </tr>\n",
       "            <tr>\n",
       "                        <th id=\"T_f54ffc5a_4aab_11eb_a7ff_94e6f7daa8b2level0_row6\" class=\"row_heading level0 row6\" >Doctorate</th>\n",
       "                        <td id=\"T_f54ffc5a_4aab_11eb_a7ff_94e6f7daa8b2row6_col0\" class=\"data row6 col0\" >0.04</td>\n",
       "                        <td id=\"T_f54ffc5a_4aab_11eb_a7ff_94e6f7daa8b2row6_col1\" class=\"data row6 col1\" >0.79</td>\n",
       "                        <td id=\"T_f54ffc5a_4aab_11eb_a7ff_94e6f7daa8b2row6_col2\" class=\"data row6 col2\" >0.21</td>\n",
       "                        <td id=\"T_f54ffc5a_4aab_11eb_a7ff_94e6f7daa8b2row6_col3\" class=\"data row6 col3\" >-0.05</td>\n",
       "            </tr>\n",
       "    </tbody></table>"
      ],
      "text/plain": [
       "<pandas.io.formats.style.Styler at 0x1fd714192c8>"
      ]
     },
     "execution_count": 20,
     "metadata": {},
     "output_type": "execute_result"
    }
   ],
   "source": [
    "# summary table for analyze that how education level impact to customer churn\n",
    "# use new user-defined function \n",
    "table(df,churned,notchurned, 'Education_Level')"
   ]
  },
  {
   "cell_type": "markdown",
   "metadata": {},
   "source": [
    "#### Income category vs churn\n",
    "\n",
    "We notice that income category 60K-80K customer's churned ratio seperate a little bit (%3) from overall ratio.\n",
    "The larget amount of our customers earns less then $40k a year."
   ]
  },
  {
   "cell_type": "code",
   "execution_count": 21,
   "metadata": {},
   "outputs": [
    {
     "data": {
      "text/plain": [
       "Text(0, 0.5, '# of customers')"
      ]
     },
     "execution_count": 21,
     "metadata": {},
     "output_type": "execute_result"
    },
    {
     "data": {
      "image/png": "[encoded data removed]",
      "text/plain": [
       "<Figure size 432x288 with 1 Axes>"
      ]
     },
     "metadata": {
      "needs_background": "light"
     },
     "output_type": "display_data"
    }
   ],
   "source": [
    "# Checking the Income distribution grouped by AttritedFlag\n",
    "%matplotlib inline\n",
    "pd.crosstab(df['Income_Category'], df['AttritedFlag']).plot(kind='bar')\n",
    "plt.title('Income_Category Churn rate')\n",
    "plt.xlabel('Income_Category')\n",
    "plt.ylabel('# of customers')"
   ]
  },
  {
   "cell_type": "code",
   "execution_count": 22,
   "metadata": {},
   "outputs": [
    {
     "name": "stdout",
     "output_type": "stream",
     "text": [
      "Overall Churned Ratio: 0.16\n"
     ]
    },
    {
     "data": {
      "text/html": [
       "<style  type=\"text/css\" >\n",
       "    #T_f7955cba_4aab_11eb_b46b_94e6f7daa8b2row0_col0 {\n",
       "            width:  10em;\n",
       "             height:  80%;\n",
       "            background:  linear-gradient(90deg,#5fba7d 100.0%, transparent 100.0%);\n",
       "        }    #T_f7955cba_4aab_11eb_b46b_94e6f7daa8b2row0_col3 {\n",
       "            width:  10em;\n",
       "             height:  80%;\n",
       "            background:  linear-gradient(90deg,#d65f5f 25.0%, transparent 25.0%);\n",
       "        }    #T_f7955cba_4aab_11eb_b46b_94e6f7daa8b2row1_col0 {\n",
       "            width:  10em;\n",
       "             height:  80%;\n",
       "            background:  linear-gradient(90deg,#5fba7d 51.4%, transparent 51.4%);\n",
       "        }    #T_f7955cba_4aab_11eb_b46b_94e6f7daa8b2row1_col3 {\n",
       "            width:  10em;\n",
       "             height:  80%;\n",
       "            background:  linear-gradient(90deg, transparent 25.0%, #5fba7d 25.0%, #5fba7d 50.0%, transparent 50.0%);\n",
       "        }    #T_f7955cba_4aab_11eb_b46b_94e6f7daa8b2row2_col0 {\n",
       "            width:  10em;\n",
       "             height:  80%;\n",
       "            background:  linear-gradient(90deg,#5fba7d 42.9%, transparent 42.9%);\n",
       "        }    #T_f7955cba_4aab_11eb_b46b_94e6f7daa8b2row2_col3 {\n",
       "            width:  10em;\n",
       "             height:  80%;\n",
       "        }    #T_f7955cba_4aab_11eb_b46b_94e6f7daa8b2row3_col0 {\n",
       "            width:  10em;\n",
       "             height:  80%;\n",
       "            background:  linear-gradient(90deg,#5fba7d 40.0%, transparent 40.0%);\n",
       "        }    #T_f7955cba_4aab_11eb_b46b_94e6f7daa8b2row3_col3 {\n",
       "            width:  10em;\n",
       "             height:  80%;\n",
       "            background:  linear-gradient(90deg, transparent 25.0%, #5fba7d 25.0%, #5fba7d 100.0%, transparent 100.0%);\n",
       "        }    #T_f7955cba_4aab_11eb_b46b_94e6f7daa8b2row4_col0 {\n",
       "            width:  10em;\n",
       "             height:  80%;\n",
       "            background:  linear-gradient(90deg,#5fba7d 31.4%, transparent 31.4%);\n",
       "        }    #T_f7955cba_4aab_11eb_b46b_94e6f7daa8b2row4_col3 {\n",
       "            width:  10em;\n",
       "             height:  80%;\n",
       "            background:  linear-gradient(90deg,#d65f5f 25.0%, transparent 25.0%);\n",
       "        }    #T_f7955cba_4aab_11eb_b46b_94e6f7daa8b2row5_col0 {\n",
       "            width:  10em;\n",
       "             height:  80%;\n",
       "            background:  linear-gradient(90deg,#5fba7d 20.0%, transparent 20.0%);\n",
       "        }    #T_f7955cba_4aab_11eb_b46b_94e6f7daa8b2row5_col3 {\n",
       "            width:  10em;\n",
       "             height:  80%;\n",
       "            background:  linear-gradient(90deg,#d65f5f 25.0%, transparent 25.0%);\n",
       "        }</style><table id=\"T_f7955cba_4aab_11eb_b46b_94e6f7daa8b2\" ><thead>    <tr>        <th class=\"blank level0\" ></th>        <th class=\"col_heading level0 col0\" >freq_ratio</th>        <th class=\"col_heading level0 col1\" >notchurned_perc</th>        <th class=\"col_heading level0 col2\" >churned_perc</th>        <th class=\"col_heading level0 col3\" >Diff_overall</th>    </tr></thead><tbody>\n",
       "                <tr>\n",
       "                        <th id=\"T_f7955cba_4aab_11eb_b46b_94e6f7daa8b2level0_row0\" class=\"row_heading level0 row0\" >Less than $40K</th>\n",
       "                        <td id=\"T_f7955cba_4aab_11eb_b46b_94e6f7daa8b2row0_col0\" class=\"data row0 col0\" >0.35</td>\n",
       "                        <td id=\"T_f7955cba_4aab_11eb_b46b_94e6f7daa8b2row0_col1\" class=\"data row0 col1\" >0.83</td>\n",
       "                        <td id=\"T_f7955cba_4aab_11eb_b46b_94e6f7daa8b2row0_col2\" class=\"data row0 col2\" >0.17</td>\n",
       "                        <td id=\"T_f7955cba_4aab_11eb_b46b_94e6f7daa8b2row0_col3\" class=\"data row0 col3\" >-0.01</td>\n",
       "            </tr>\n",
       "            <tr>\n",
       "                        <th id=\"T_f7955cba_4aab_11eb_b46b_94e6f7daa8b2level0_row1\" class=\"row_heading level0 row1\" >$40K - $60K</th>\n",
       "                        <td id=\"T_f7955cba_4aab_11eb_b46b_94e6f7daa8b2row1_col0\" class=\"data row1 col0\" >0.18</td>\n",
       "                        <td id=\"T_f7955cba_4aab_11eb_b46b_94e6f7daa8b2row1_col1\" class=\"data row1 col1\" >0.85</td>\n",
       "                        <td id=\"T_f7955cba_4aab_11eb_b46b_94e6f7daa8b2row1_col2\" class=\"data row1 col2\" >0.15</td>\n",
       "                        <td id=\"T_f7955cba_4aab_11eb_b46b_94e6f7daa8b2row1_col3\" class=\"data row1 col3\" >0.01</td>\n",
       "            </tr>\n",
       "            <tr>\n",
       "                        <th id=\"T_f7955cba_4aab_11eb_b46b_94e6f7daa8b2level0_row2\" class=\"row_heading level0 row2\" >$80K - $120K</th>\n",
       "                        <td id=\"T_f7955cba_4aab_11eb_b46b_94e6f7daa8b2row2_col0\" class=\"data row2 col0\" >0.15</td>\n",
       "                        <td id=\"T_f7955cba_4aab_11eb_b46b_94e6f7daa8b2row2_col1\" class=\"data row2 col1\" >0.84</td>\n",
       "                        <td id=\"T_f7955cba_4aab_11eb_b46b_94e6f7daa8b2row2_col2\" class=\"data row2 col2\" >0.16</td>\n",
       "                        <td id=\"T_f7955cba_4aab_11eb_b46b_94e6f7daa8b2row2_col3\" class=\"data row2 col3\" >0</td>\n",
       "            </tr>\n",
       "            <tr>\n",
       "                        <th id=\"T_f7955cba_4aab_11eb_b46b_94e6f7daa8b2level0_row3\" class=\"row_heading level0 row3\" >$60K - $80K</th>\n",
       "                        <td id=\"T_f7955cba_4aab_11eb_b46b_94e6f7daa8b2row3_col0\" class=\"data row3 col0\" >0.14</td>\n",
       "                        <td id=\"T_f7955cba_4aab_11eb_b46b_94e6f7daa8b2row3_col1\" class=\"data row3 col1\" >0.87</td>\n",
       "                        <td id=\"T_f7955cba_4aab_11eb_b46b_94e6f7daa8b2row3_col2\" class=\"data row3 col2\" >0.13</td>\n",
       "                        <td id=\"T_f7955cba_4aab_11eb_b46b_94e6f7daa8b2row3_col3\" class=\"data row3 col3\" >0.03</td>\n",
       "            </tr>\n",
       "            <tr>\n",
       "                        <th id=\"T_f7955cba_4aab_11eb_b46b_94e6f7daa8b2level0_row4\" class=\"row_heading level0 row4\" >Unknown</th>\n",
       "                        <td id=\"T_f7955cba_4aab_11eb_b46b_94e6f7daa8b2row4_col0\" class=\"data row4 col0\" >0.11</td>\n",
       "                        <td id=\"T_f7955cba_4aab_11eb_b46b_94e6f7daa8b2row4_col1\" class=\"data row4 col1\" >0.83</td>\n",
       "                        <td id=\"T_f7955cba_4aab_11eb_b46b_94e6f7daa8b2row4_col2\" class=\"data row4 col2\" >0.17</td>\n",
       "                        <td id=\"T_f7955cba_4aab_11eb_b46b_94e6f7daa8b2row4_col3\" class=\"data row4 col3\" >-0.01</td>\n",
       "            </tr>\n",
       "            <tr>\n",
       "                        <th id=\"T_f7955cba_4aab_11eb_b46b_94e6f7daa8b2level0_row5\" class=\"row_heading level0 row5\" >$120K +</th>\n",
       "                        <td id=\"T_f7955cba_4aab_11eb_b46b_94e6f7daa8b2row5_col0\" class=\"data row5 col0\" >0.07</td>\n",
       "                        <td id=\"T_f7955cba_4aab_11eb_b46b_94e6f7daa8b2row5_col1\" class=\"data row5 col1\" >0.83</td>\n",
       "                        <td id=\"T_f7955cba_4aab_11eb_b46b_94e6f7daa8b2row5_col2\" class=\"data row5 col2\" >0.17</td>\n",
       "                        <td id=\"T_f7955cba_4aab_11eb_b46b_94e6f7daa8b2row5_col3\" class=\"data row5 col3\" >-0.01</td>\n",
       "            </tr>\n",
       "    </tbody></table>"
      ],
      "text/plain": [
       "<pandas.io.formats.style.Styler at 0x1fd714a13c8>"
      ]
     },
     "execution_count": 22,
     "metadata": {},
     "output_type": "execute_result"
    }
   ],
   "source": [
    "# summary table for analyze that how Income impact to customer churn\n",
    "# use new user-defined function \n",
    "table(df,churned,notchurned, 'Income_Category')"
   ]
  },
  {
   "cell_type": "markdown",
   "metadata": {},
   "source": [
    "#### Number of products bought vs churn\n",
    "\n",
    "Here we see a shift in the distribution when we compare the churned vs the nonchurned. It's clear that the non churned customers tend to buy more products (more than 3 products) then the churned customers."
   ]
  },
  {
   "cell_type": "code",
   "execution_count": 23,
   "metadata": {},
   "outputs": [
    {
     "data": {
      "text/plain": [
       "Text(0, 0.5, '# of customers')"
      ]
     },
     "execution_count": 23,
     "metadata": {},
     "output_type": "execute_result"
    },
    {
     "data": {
      "image/png": "[encoded data removed]",
      "text/plain": [
       "<Figure size 432x288 with 1 Axes>"
      ]
     },
     "metadata": {
      "needs_background": "light"
     },
     "output_type": "display_data"
    }
   ],
   "source": [
    "# Checking the number of products distribution grouped by AttritedFlag\n",
    "%matplotlib inline\n",
    "pd.crosstab(df['Total_Relationship_Count'], df['AttritedFlag']).plot(kind='bar')\n",
    "plt.title('Number of products Churn rate')\n",
    "plt.xlabel('Total_Relationship_Count')\n",
    "plt.ylabel('# of customers')"
   ]
  },
  {
   "cell_type": "code",
   "execution_count": 24,
   "metadata": {},
   "outputs": [
    {
     "name": "stdout",
     "output_type": "stream",
     "text": [
      "Overall Churned Ratio: 0.16\n"
     ]
    },
    {
     "data": {
      "text/html": [
       "<style  type=\"text/css\" >\n",
       "    #T_f962d12e_4aab_11eb_8d41_94e6f7daa8b2row0_col0 {\n",
       "            width:  10em;\n",
       "             height:  80%;\n",
       "            background:  linear-gradient(90deg,#5fba7d 100.0%, transparent 100.0%);\n",
       "        }    #T_f962d12e_4aab_11eb_8d41_94e6f7daa8b2row0_col3 {\n",
       "            width:  10em;\n",
       "             height:  80%;\n",
       "            background:  linear-gradient(90deg, transparent 64.7%, #d65f5f 64.7%, #d65f5f 70.6%, transparent 70.6%);\n",
       "        }    #T_f962d12e_4aab_11eb_8d41_94e6f7daa8b2row1_col0 {\n",
       "            width:  10em;\n",
       "             height:  80%;\n",
       "            background:  linear-gradient(90deg,#5fba7d 82.6%, transparent 82.6%);\n",
       "        }    #T_f962d12e_4aab_11eb_8d41_94e6f7daa8b2row1_col3 {\n",
       "            width:  10em;\n",
       "             height:  80%;\n",
       "            background:  linear-gradient(90deg, transparent 70.6%, #5fba7d 70.6%, #5fba7d 94.1%, transparent 94.1%);\n",
       "        }    #T_f962d12e_4aab_11eb_8d41_94e6f7daa8b2row2_col0 {\n",
       "            width:  10em;\n",
       "             height:  80%;\n",
       "            background:  linear-gradient(90deg,#5fba7d 82.6%, transparent 82.6%);\n",
       "        }    #T_f962d12e_4aab_11eb_8d41_94e6f7daa8b2row2_col3 {\n",
       "            width:  10em;\n",
       "             height:  80%;\n",
       "            background:  linear-gradient(90deg, transparent 70.6%, #5fba7d 70.6%, #5fba7d 94.1%, transparent 94.1%);\n",
       "        }    #T_f962d12e_4aab_11eb_8d41_94e6f7daa8b2row3_col0 {\n",
       "            width:  10em;\n",
       "             height:  80%;\n",
       "            background:  linear-gradient(90deg,#5fba7d 78.3%, transparent 78.3%);\n",
       "        }    #T_f962d12e_4aab_11eb_8d41_94e6f7daa8b2row3_col3 {\n",
       "            width:  10em;\n",
       "             height:  80%;\n",
       "            background:  linear-gradient(90deg, transparent 70.6%, #5fba7d 70.6%, #5fba7d 100.0%, transparent 100.0%);\n",
       "        }    #T_f962d12e_4aab_11eb_8d41_94e6f7daa8b2row4_col0 {\n",
       "            width:  10em;\n",
       "             height:  80%;\n",
       "            background:  linear-gradient(90deg,#5fba7d 52.2%, transparent 52.2%);\n",
       "        }    #T_f962d12e_4aab_11eb_8d41_94e6f7daa8b2row4_col3 {\n",
       "            width:  10em;\n",
       "             height:  80%;\n",
       "            background:  linear-gradient(90deg,#d65f5f 70.6%, transparent 70.6%);\n",
       "        }    #T_f962d12e_4aab_11eb_8d41_94e6f7daa8b2row5_col0 {\n",
       "            width:  10em;\n",
       "             height:  80%;\n",
       "            background:  linear-gradient(90deg,#5fba7d 39.1%, transparent 39.1%);\n",
       "        }    #T_f962d12e_4aab_11eb_8d41_94e6f7daa8b2row5_col3 {\n",
       "            width:  10em;\n",
       "             height:  80%;\n",
       "            background:  linear-gradient(90deg, transparent 11.8%, #d65f5f 11.8%, #d65f5f 70.6%, transparent 70.6%);\n",
       "        }</style><table id=\"T_f962d12e_4aab_11eb_8d41_94e6f7daa8b2\" ><thead>    <tr>        <th class=\"blank level0\" ></th>        <th class=\"col_heading level0 col0\" >freq_ratio</th>        <th class=\"col_heading level0 col1\" >notchurned_perc</th>        <th class=\"col_heading level0 col2\" >churned_perc</th>        <th class=\"col_heading level0 col3\" >Diff_overall</th>    </tr></thead><tbody>\n",
       "                <tr>\n",
       "                        <th id=\"T_f962d12e_4aab_11eb_8d41_94e6f7daa8b2level0_row0\" class=\"row_heading level0 row0\" >3</th>\n",
       "                        <td id=\"T_f962d12e_4aab_11eb_8d41_94e6f7daa8b2row0_col0\" class=\"data row0 col0\" >0.23</td>\n",
       "                        <td id=\"T_f962d12e_4aab_11eb_8d41_94e6f7daa8b2row0_col1\" class=\"data row0 col1\" >0.83</td>\n",
       "                        <td id=\"T_f962d12e_4aab_11eb_8d41_94e6f7daa8b2row0_col2\" class=\"data row0 col2\" >0.17</td>\n",
       "                        <td id=\"T_f962d12e_4aab_11eb_8d41_94e6f7daa8b2row0_col3\" class=\"data row0 col3\" >-0.01</td>\n",
       "            </tr>\n",
       "            <tr>\n",
       "                        <th id=\"T_f962d12e_4aab_11eb_8d41_94e6f7daa8b2level0_row1\" class=\"row_heading level0 row1\" >4</th>\n",
       "                        <td id=\"T_f962d12e_4aab_11eb_8d41_94e6f7daa8b2row1_col0\" class=\"data row1 col0\" >0.19</td>\n",
       "                        <td id=\"T_f962d12e_4aab_11eb_8d41_94e6f7daa8b2row1_col1\" class=\"data row1 col1\" >0.88</td>\n",
       "                        <td id=\"T_f962d12e_4aab_11eb_8d41_94e6f7daa8b2row1_col2\" class=\"data row1 col2\" >0.12</td>\n",
       "                        <td id=\"T_f962d12e_4aab_11eb_8d41_94e6f7daa8b2row1_col3\" class=\"data row1 col3\" >0.04</td>\n",
       "            </tr>\n",
       "            <tr>\n",
       "                        <th id=\"T_f962d12e_4aab_11eb_8d41_94e6f7daa8b2level0_row2\" class=\"row_heading level0 row2\" >5</th>\n",
       "                        <td id=\"T_f962d12e_4aab_11eb_8d41_94e6f7daa8b2row2_col0\" class=\"data row2 col0\" >0.19</td>\n",
       "                        <td id=\"T_f962d12e_4aab_11eb_8d41_94e6f7daa8b2row2_col1\" class=\"data row2 col1\" >0.88</td>\n",
       "                        <td id=\"T_f962d12e_4aab_11eb_8d41_94e6f7daa8b2row2_col2\" class=\"data row2 col2\" >0.12</td>\n",
       "                        <td id=\"T_f962d12e_4aab_11eb_8d41_94e6f7daa8b2row2_col3\" class=\"data row2 col3\" >0.04</td>\n",
       "            </tr>\n",
       "            <tr>\n",
       "                        <th id=\"T_f962d12e_4aab_11eb_8d41_94e6f7daa8b2level0_row3\" class=\"row_heading level0 row3\" >6</th>\n",
       "                        <td id=\"T_f962d12e_4aab_11eb_8d41_94e6f7daa8b2row3_col0\" class=\"data row3 col0\" >0.18</td>\n",
       "                        <td id=\"T_f962d12e_4aab_11eb_8d41_94e6f7daa8b2row3_col1\" class=\"data row3 col1\" >0.89</td>\n",
       "                        <td id=\"T_f962d12e_4aab_11eb_8d41_94e6f7daa8b2row3_col2\" class=\"data row3 col2\" >0.11</td>\n",
       "                        <td id=\"T_f962d12e_4aab_11eb_8d41_94e6f7daa8b2row3_col3\" class=\"data row3 col3\" >0.05</td>\n",
       "            </tr>\n",
       "            <tr>\n",
       "                        <th id=\"T_f962d12e_4aab_11eb_8d41_94e6f7daa8b2level0_row4\" class=\"row_heading level0 row4\" >2</th>\n",
       "                        <td id=\"T_f962d12e_4aab_11eb_8d41_94e6f7daa8b2row4_col0\" class=\"data row4 col0\" >0.12</td>\n",
       "                        <td id=\"T_f962d12e_4aab_11eb_8d41_94e6f7daa8b2row4_col1\" class=\"data row4 col1\" >0.72</td>\n",
       "                        <td id=\"T_f962d12e_4aab_11eb_8d41_94e6f7daa8b2row4_col2\" class=\"data row4 col2\" >0.28</td>\n",
       "                        <td id=\"T_f962d12e_4aab_11eb_8d41_94e6f7daa8b2row4_col3\" class=\"data row4 col3\" >-0.12</td>\n",
       "            </tr>\n",
       "            <tr>\n",
       "                        <th id=\"T_f962d12e_4aab_11eb_8d41_94e6f7daa8b2level0_row5\" class=\"row_heading level0 row5\" >1</th>\n",
       "                        <td id=\"T_f962d12e_4aab_11eb_8d41_94e6f7daa8b2row5_col0\" class=\"data row5 col0\" >0.09</td>\n",
       "                        <td id=\"T_f962d12e_4aab_11eb_8d41_94e6f7daa8b2row5_col1\" class=\"data row5 col1\" >0.74</td>\n",
       "                        <td id=\"T_f962d12e_4aab_11eb_8d41_94e6f7daa8b2row5_col2\" class=\"data row5 col2\" >0.26</td>\n",
       "                        <td id=\"T_f962d12e_4aab_11eb_8d41_94e6f7daa8b2row5_col3\" class=\"data row5 col3\" >-0.1</td>\n",
       "            </tr>\n",
       "    </tbody></table>"
      ],
      "text/plain": [
       "<pandas.io.formats.style.Styler at 0x1fd6f04c108>"
      ]
     },
     "execution_count": 24,
     "metadata": {},
     "output_type": "execute_result"
    }
   ],
   "source": [
    "# summary table for analyze that how Total_Relationship_Count impact to customer churn\n",
    "# use new user-defined function \n",
    "table(df,churned,notchurned, 'Total_Relationship_Count')"
   ]
  },
  {
   "cell_type": "markdown",
   "metadata": {},
   "source": [
    "#### Months inactive vs churn\n",
    "\n",
    "We notice that grader than 1 month inactivity in the last 1 year is impact to churn.\n",
    "\n",
    "It's clear that the most of the customers show a 3 month inactivity. It can be said that most of the active members (less then 3 months) can be found within the non churning customers."
   ]
  },
  {
   "cell_type": "code",
   "execution_count": 25,
   "metadata": {},
   "outputs": [
    {
     "data": {
      "text/plain": [
       "Text(0, 0.5, '# of customers')"
      ]
     },
     "execution_count": 25,
     "metadata": {},
     "output_type": "execute_result"
    },
    {
     "data": {
      "image/png": "[encoded data removed]",
      "text/plain": [
       "<Figure size 432x288 with 1 Axes>"
      ]
     },
     "metadata": {
      "needs_background": "light"
     },
     "output_type": "display_data"
    }
   ],
   "source": [
    "# Checking the inactive months last 1 year distribution grouped by AttritedFlag\n",
    "%matplotlib inline\n",
    "pd.crosstab(df['Months_Inactive_12_mon'], df['AttritedFlag']).plot(kind='bar')\n",
    "plt.title('Months_Inactive_12_mon Churn rate')\n",
    "plt.xlabel('Total_Relationship_Count')\n",
    "plt.ylabel('# of customers')"
   ]
  },
  {
   "cell_type": "code",
   "execution_count": 26,
   "metadata": {},
   "outputs": [
    {
     "name": "stdout",
     "output_type": "stream",
     "text": [
      "Overall Churned Ratio: 0.16\n"
     ]
    },
    {
     "data": {
      "text/html": [
       "<style  type=\"text/css\" >\n",
       "    #T_fb5a8464_4aab_11eb_be94_94e6f7daa8b2row0_col0 {\n",
       "            width:  10em;\n",
       "             height:  80%;\n",
       "            background:  linear-gradient(90deg,#5fba7d 100.0%, transparent 100.0%);\n",
       "        }    #T_fb5a8464_4aab_11eb_be94_94e6f7daa8b2row0_col3 {\n",
       "            width:  10em;\n",
       "             height:  80%;\n",
       "            background:  linear-gradient(90deg, transparent 64.6%, #d65f5f 64.6%, #d65f5f 75.0%, transparent 75.0%);\n",
       "        }    #T_fb5a8464_4aab_11eb_be94_94e6f7daa8b2row1_col0 {\n",
       "            width:  10em;\n",
       "             height:  80%;\n",
       "            background:  linear-gradient(90deg,#5fba7d 84.2%, transparent 84.2%);\n",
       "        }    #T_fb5a8464_4aab_11eb_be94_94e6f7daa8b2row1_col3 {\n",
       "            width:  10em;\n",
       "             height:  80%;\n",
       "            background:  linear-gradient(90deg, transparent 75.0%, #5fba7d 75.0%, #5fba7d 77.1%, transparent 77.1%);\n",
       "        }    #T_fb5a8464_4aab_11eb_be94_94e6f7daa8b2row2_col0 {\n",
       "            width:  10em;\n",
       "             height:  80%;\n",
       "            background:  linear-gradient(90deg,#5fba7d 57.9%, transparent 57.9%);\n",
       "        }    #T_fb5a8464_4aab_11eb_be94_94e6f7daa8b2row2_col3 {\n",
       "            width:  10em;\n",
       "             height:  80%;\n",
       "            background:  linear-gradient(90deg, transparent 75.0%, #5fba7d 75.0%, #5fba7d 100.0%, transparent 100.0%);\n",
       "        }    #T_fb5a8464_4aab_11eb_be94_94e6f7daa8b2row3_col0 {\n",
       "            width:  10em;\n",
       "             height:  80%;\n",
       "            background:  linear-gradient(90deg,#5fba7d 10.5%, transparent 10.5%);\n",
       "        }    #T_fb5a8464_4aab_11eb_be94_94e6f7daa8b2row3_col3 {\n",
       "            width:  10em;\n",
       "             height:  80%;\n",
       "            background:  linear-gradient(90deg, transparent 45.8%, #d65f5f 45.8%, #d65f5f 75.0%, transparent 75.0%);\n",
       "        }    #T_fb5a8464_4aab_11eb_be94_94e6f7daa8b2row4_col0 {\n",
       "            width:  10em;\n",
       "             height:  80%;\n",
       "            background:  linear-gradient(90deg,#5fba7d 5.3%, transparent 5.3%);\n",
       "        }    #T_fb5a8464_4aab_11eb_be94_94e6f7daa8b2row4_col3 {\n",
       "            width:  10em;\n",
       "             height:  80%;\n",
       "            background:  linear-gradient(90deg, transparent 70.8%, #d65f5f 70.8%, #d65f5f 75.0%, transparent 75.0%);\n",
       "        }    #T_fb5a8464_4aab_11eb_be94_94e6f7daa8b2row5_col0 {\n",
       "            width:  10em;\n",
       "             height:  80%;\n",
       "            background:  linear-gradient(90deg,#5fba7d 2.6%, transparent 2.6%);\n",
       "        }    #T_fb5a8464_4aab_11eb_be94_94e6f7daa8b2row5_col3 {\n",
       "            width:  10em;\n",
       "             height:  80%;\n",
       "            background:  linear-gradient(90deg, transparent 75.0%, #5fba7d 75.0%, #5fba7d 77.1%, transparent 77.1%);\n",
       "        }    #T_fb5a8464_4aab_11eb_be94_94e6f7daa8b2row6_col0 {\n",
       "            width:  10em;\n",
       "             height:  80%;\n",
       "        }    #T_fb5a8464_4aab_11eb_be94_94e6f7daa8b2row6_col3 {\n",
       "            width:  10em;\n",
       "             height:  80%;\n",
       "            background:  linear-gradient(90deg,#d65f5f 75.0%, transparent 75.0%);\n",
       "        }</style><table id=\"T_fb5a8464_4aab_11eb_be94_94e6f7daa8b2\" ><thead>    <tr>        <th class=\"blank level0\" ></th>        <th class=\"col_heading level0 col0\" >freq_ratio</th>        <th class=\"col_heading level0 col1\" >notchurned_perc</th>        <th class=\"col_heading level0 col2\" >churned_perc</th>        <th class=\"col_heading level0 col3\" >Diff_overall</th>    </tr></thead><tbody>\n",
       "                <tr>\n",
       "                        <th id=\"T_fb5a8464_4aab_11eb_be94_94e6f7daa8b2level0_row0\" class=\"row_heading level0 row0\" >3</th>\n",
       "                        <td id=\"T_fb5a8464_4aab_11eb_be94_94e6f7daa8b2row0_col0\" class=\"data row0 col0\" >0.38</td>\n",
       "                        <td id=\"T_fb5a8464_4aab_11eb_be94_94e6f7daa8b2row0_col1\" class=\"data row0 col1\" >0.79</td>\n",
       "                        <td id=\"T_fb5a8464_4aab_11eb_be94_94e6f7daa8b2row0_col2\" class=\"data row0 col2\" >0.21</td>\n",
       "                        <td id=\"T_fb5a8464_4aab_11eb_be94_94e6f7daa8b2row0_col3\" class=\"data row0 col3\" >-0.05</td>\n",
       "            </tr>\n",
       "            <tr>\n",
       "                        <th id=\"T_fb5a8464_4aab_11eb_be94_94e6f7daa8b2level0_row1\" class=\"row_heading level0 row1\" >2</th>\n",
       "                        <td id=\"T_fb5a8464_4aab_11eb_be94_94e6f7daa8b2row1_col0\" class=\"data row1 col0\" >0.32</td>\n",
       "                        <td id=\"T_fb5a8464_4aab_11eb_be94_94e6f7daa8b2row1_col1\" class=\"data row1 col1\" >0.85</td>\n",
       "                        <td id=\"T_fb5a8464_4aab_11eb_be94_94e6f7daa8b2row1_col2\" class=\"data row1 col2\" >0.15</td>\n",
       "                        <td id=\"T_fb5a8464_4aab_11eb_be94_94e6f7daa8b2row1_col3\" class=\"data row1 col3\" >0.01</td>\n",
       "            </tr>\n",
       "            <tr>\n",
       "                        <th id=\"T_fb5a8464_4aab_11eb_be94_94e6f7daa8b2level0_row2\" class=\"row_heading level0 row2\" >1</th>\n",
       "                        <td id=\"T_fb5a8464_4aab_11eb_be94_94e6f7daa8b2row2_col0\" class=\"data row2 col0\" >0.22</td>\n",
       "                        <td id=\"T_fb5a8464_4aab_11eb_be94_94e6f7daa8b2row2_col1\" class=\"data row2 col1\" >0.96</td>\n",
       "                        <td id=\"T_fb5a8464_4aab_11eb_be94_94e6f7daa8b2row2_col2\" class=\"data row2 col2\" >0.04</td>\n",
       "                        <td id=\"T_fb5a8464_4aab_11eb_be94_94e6f7daa8b2row2_col3\" class=\"data row2 col3\" >0.12</td>\n",
       "            </tr>\n",
       "            <tr>\n",
       "                        <th id=\"T_fb5a8464_4aab_11eb_be94_94e6f7daa8b2level0_row3\" class=\"row_heading level0 row3\" >4</th>\n",
       "                        <td id=\"T_fb5a8464_4aab_11eb_be94_94e6f7daa8b2row3_col0\" class=\"data row3 col0\" >0.04</td>\n",
       "                        <td id=\"T_fb5a8464_4aab_11eb_be94_94e6f7daa8b2row3_col1\" class=\"data row3 col1\" >0.7</td>\n",
       "                        <td id=\"T_fb5a8464_4aab_11eb_be94_94e6f7daa8b2row3_col2\" class=\"data row3 col2\" >0.3</td>\n",
       "                        <td id=\"T_fb5a8464_4aab_11eb_be94_94e6f7daa8b2row3_col3\" class=\"data row3 col3\" >-0.14</td>\n",
       "            </tr>\n",
       "            <tr>\n",
       "                        <th id=\"T_fb5a8464_4aab_11eb_be94_94e6f7daa8b2level0_row4\" class=\"row_heading level0 row4\" >5</th>\n",
       "                        <td id=\"T_fb5a8464_4aab_11eb_be94_94e6f7daa8b2row4_col0\" class=\"data row4 col0\" >0.02</td>\n",
       "                        <td id=\"T_fb5a8464_4aab_11eb_be94_94e6f7daa8b2row4_col1\" class=\"data row4 col1\" >0.82</td>\n",
       "                        <td id=\"T_fb5a8464_4aab_11eb_be94_94e6f7daa8b2row4_col2\" class=\"data row4 col2\" >0.18</td>\n",
       "                        <td id=\"T_fb5a8464_4aab_11eb_be94_94e6f7daa8b2row4_col3\" class=\"data row4 col3\" >-0.02</td>\n",
       "            </tr>\n",
       "            <tr>\n",
       "                        <th id=\"T_fb5a8464_4aab_11eb_be94_94e6f7daa8b2level0_row5\" class=\"row_heading level0 row5\" >6</th>\n",
       "                        <td id=\"T_fb5a8464_4aab_11eb_be94_94e6f7daa8b2row5_col0\" class=\"data row5 col0\" >0.01</td>\n",
       "                        <td id=\"T_fb5a8464_4aab_11eb_be94_94e6f7daa8b2row5_col1\" class=\"data row5 col1\" >0.85</td>\n",
       "                        <td id=\"T_fb5a8464_4aab_11eb_be94_94e6f7daa8b2row5_col2\" class=\"data row5 col2\" >0.15</td>\n",
       "                        <td id=\"T_fb5a8464_4aab_11eb_be94_94e6f7daa8b2row5_col3\" class=\"data row5 col3\" >0.01</td>\n",
       "            </tr>\n",
       "            <tr>\n",
       "                        <th id=\"T_fb5a8464_4aab_11eb_be94_94e6f7daa8b2level0_row6\" class=\"row_heading level0 row6\" >0</th>\n",
       "                        <td id=\"T_fb5a8464_4aab_11eb_be94_94e6f7daa8b2row6_col0\" class=\"data row6 col0\" >0</td>\n",
       "                        <td id=\"T_fb5a8464_4aab_11eb_be94_94e6f7daa8b2row6_col1\" class=\"data row6 col1\" >0.48</td>\n",
       "                        <td id=\"T_fb5a8464_4aab_11eb_be94_94e6f7daa8b2row6_col2\" class=\"data row6 col2\" >0.52</td>\n",
       "                        <td id=\"T_fb5a8464_4aab_11eb_be94_94e6f7daa8b2row6_col3\" class=\"data row6 col3\" >-0.36</td>\n",
       "            </tr>\n",
       "    </tbody></table>"
      ],
      "text/plain": [
       "<pandas.io.formats.style.Styler at 0x1fd715a8fc8>"
      ]
     },
     "execution_count": 26,
     "metadata": {},
     "output_type": "execute_result"
    }
   ],
   "source": [
    "# summary table for analyze that how Months_Inactive_12_mon impact to customer churn\n",
    "# use new user-defined function \n",
    "table(df,churned,notchurned, 'Months_Inactive_12_mon')"
   ]
  },
  {
   "cell_type": "markdown",
   "metadata": {},
   "source": [
    "### Question3- How are the relationship with the variables vs churn ? \n",
    "\n",
    "In this question, we are trying to understand the relationship between each different variables.\n",
    "A correlation matrix is a table showing correlation coefficients between variables. Each cell in the table shows the correlation between two variables. A correlation matrix is used to summarize data, as an input into a more advanced analysis, and as a diagnostic for advanced analyses.\n",
    "\n",
    "You can find more detail about Correlation Matrix here [https://www.displayr.com/what-is-a-correlation-matrix/#:~:text=%20What%20is%20a%20Correlation%20Matrix%3F%20%201,Pearson%E2%80%99s%20Product-Moment%20Correlation%20%28r%29.%20It%20is...%20More%20]\n",
    "\n",
    "\n",
    "**Results:**\n",
    "\n",
    "The variables **Total_Trans_Ct**, **Total_Ct_Chng_Q4_Q1** and **Total_Revolving_Bal** are the top 3 features that most directly and negatively influence the churn of customers. In other words, the higher the value of these 3 variables mentioned, the lower the churn rate of these customers.\n",
    "\n",
    "\n",
    "In the other analysis spectrum, the **Contacts_Count_12_mon** and **Months_Inactive_12_mon** variables are the 2 main features that have a positive correlation with the churn target variable. This means that the higher the value of these 2 mentioned variables, the higher the churn rate of the public."
   ]
  },
  {
   "cell_type": "code",
   "execution_count": 27,
   "metadata": {},
   "outputs": [
    {
     "data": {
      "text/plain": [
       "<matplotlib.axes._subplots.AxesSubplot at 0x1fd72649088>"
      ]
     },
     "execution_count": 27,
     "metadata": {},
     "output_type": "execute_result"
    },
    {
     "data": {
      "image/png": "[encoded data removed]",
      "text/plain": [
       "<Figure size 792x648 with 2 Axes>"
      ]
     },
     "metadata": {
      "needs_background": "light"
     },
     "output_type": "display_data"
    }
   ],
   "source": [
    "# Correlation Matrix\n",
    "\n",
    "# Compute the correlation matrix\n",
    "corr = df.corr()\n",
    "\n",
    "# Generate a mask for the upper triangle\n",
    "mask = np.triu(np.ones_like(corr, dtype=bool))\n",
    "\n",
    "# Set up the matplotlib figure\n",
    "f, ax = plt.subplots(figsize=(11, 9))\n",
    "\n",
    "# Generate a custom diverging colormap\n",
    "cmap = sns.diverging_palette(230, 20, as_cmap=True)\n",
    "\n",
    "# Draw the heatmap with the mask and correct aspect ratio\n",
    "sns.heatmap(corr, annot = True , fmt=\".2f\", mask=mask, cmap=cmap, vmax=.3, center=0,\n",
    "            square=True, linewidths=.5, cbar_kws={\"shrink\": .5})"
   ]
  },
  {
   "cell_type": "markdown",
   "metadata": {},
   "source": [
    "###  What are the diffirences between Non Churn and Churn Profiles ?\n",
    "\n",
    "According to the EDA above, the profiles underneed can be made. It's clear that the main difference lays in the \"product variables\" of the customers. A churning customers tends to be less active then an existing customer. It's clear that the most influential parameters are features related to the activity of the customer."
   ]
  },
  {
   "cell_type": "code",
   "execution_count": 28,
   "metadata": {},
   "outputs": [
    {
     "data": {
      "text/html": [
       "<div>\n",
       "<style scoped>\n",
       "    .dataframe tbody tr th:only-of-type {\n",
       "        vertical-align: middle;\n",
       "    }\n",
       "\n",
       "    .dataframe tbody tr th {\n",
       "        vertical-align: top;\n",
       "    }\n",
       "\n",
       "    .dataframe thead th {\n",
       "        text-align: right;\n",
       "    }\n",
       "</style>\n",
       "<table border=\"1\" class=\"dataframe\">\n",
       "  <thead>\n",
       "    <tr style=\"text-align: right;\">\n",
       "      <th></th>\n",
       "      <th>count</th>\n",
       "      <th>freq</th>\n",
       "      <th>top</th>\n",
       "      <th>mean</th>\n",
       "      <th>min</th>\n",
       "      <th>max</th>\n",
       "    </tr>\n",
       "  </thead>\n",
       "  <tbody>\n",
       "    <tr>\n",
       "      <td>Attrition_Flag</td>\n",
       "      <td>1627</td>\n",
       "      <td>1627</td>\n",
       "      <td>Attrited Customer</td>\n",
       "      <td>NaN</td>\n",
       "      <td>NaN</td>\n",
       "      <td>NaN</td>\n",
       "    </tr>\n",
       "    <tr>\n",
       "      <td>Gender</td>\n",
       "      <td>1627</td>\n",
       "      <td>930</td>\n",
       "      <td>F</td>\n",
       "      <td>NaN</td>\n",
       "      <td>NaN</td>\n",
       "      <td>NaN</td>\n",
       "    </tr>\n",
       "    <tr>\n",
       "      <td>Education_Level</td>\n",
       "      <td>1627</td>\n",
       "      <td>487</td>\n",
       "      <td>Graduate</td>\n",
       "      <td>NaN</td>\n",
       "      <td>NaN</td>\n",
       "      <td>NaN</td>\n",
       "    </tr>\n",
       "    <tr>\n",
       "      <td>Marital_Status</td>\n",
       "      <td>1627</td>\n",
       "      <td>709</td>\n",
       "      <td>Married</td>\n",
       "      <td>NaN</td>\n",
       "      <td>NaN</td>\n",
       "      <td>NaN</td>\n",
       "    </tr>\n",
       "    <tr>\n",
       "      <td>Income_Category</td>\n",
       "      <td>1627</td>\n",
       "      <td>612</td>\n",
       "      <td>Less than $40K</td>\n",
       "      <td>NaN</td>\n",
       "      <td>NaN</td>\n",
       "      <td>NaN</td>\n",
       "    </tr>\n",
       "    <tr>\n",
       "      <td>Card_Category</td>\n",
       "      <td>1627</td>\n",
       "      <td>1519</td>\n",
       "      <td>Blue</td>\n",
       "      <td>NaN</td>\n",
       "      <td>NaN</td>\n",
       "      <td>NaN</td>\n",
       "    </tr>\n",
       "    <tr>\n",
       "      <td>Credit_Limit</td>\n",
       "      <td>1627</td>\n",
       "      <td>NaN</td>\n",
       "      <td>NaN</td>\n",
       "      <td>8136.04</td>\n",
       "      <td>1438.3</td>\n",
       "      <td>34516</td>\n",
       "    </tr>\n",
       "    <tr>\n",
       "      <td>Avg_Open_To_Buy</td>\n",
       "      <td>1627</td>\n",
       "      <td>NaN</td>\n",
       "      <td>NaN</td>\n",
       "      <td>7463.22</td>\n",
       "      <td>3</td>\n",
       "      <td>34516</td>\n",
       "    </tr>\n",
       "    <tr>\n",
       "      <td>Total_Amt_Chng_Q4_Q1</td>\n",
       "      <td>1627</td>\n",
       "      <td>NaN</td>\n",
       "      <td>NaN</td>\n",
       "      <td>0.694277</td>\n",
       "      <td>0</td>\n",
       "      <td>1.492</td>\n",
       "    </tr>\n",
       "    <tr>\n",
       "      <td>Total_Ct_Chng_Q4_Q1</td>\n",
       "      <td>1627</td>\n",
       "      <td>NaN</td>\n",
       "      <td>NaN</td>\n",
       "      <td>0.554386</td>\n",
       "      <td>0</td>\n",
       "      <td>2.5</td>\n",
       "    </tr>\n",
       "    <tr>\n",
       "      <td>Avg_Utilization_Ratio</td>\n",
       "      <td>1627</td>\n",
       "      <td>NaN</td>\n",
       "      <td>NaN</td>\n",
       "      <td>0.162475</td>\n",
       "      <td>0</td>\n",
       "      <td>0.999</td>\n",
       "    </tr>\n",
       "  </tbody>\n",
       "</table>\n",
       "</div>"
      ],
      "text/plain": [
       "                      count  freq                top      mean     min    max\n",
       "Attrition_Flag         1627  1627  Attrited Customer       NaN     NaN    NaN\n",
       "Gender                 1627   930                  F       NaN     NaN    NaN\n",
       "Education_Level        1627   487           Graduate       NaN     NaN    NaN\n",
       "Marital_Status         1627   709            Married       NaN     NaN    NaN\n",
       "Income_Category        1627   612     Less than $40K       NaN     NaN    NaN\n",
       "Card_Category          1627  1519               Blue       NaN     NaN    NaN\n",
       "Credit_Limit           1627   NaN                NaN   8136.04  1438.3  34516\n",
       "Avg_Open_To_Buy        1627   NaN                NaN   7463.22       3  34516\n",
       "Total_Amt_Chng_Q4_Q1   1627   NaN                NaN  0.694277       0  1.492\n",
       "Total_Ct_Chng_Q4_Q1    1627   NaN                NaN  0.554386       0    2.5\n",
       "Avg_Utilization_Ratio  1627   NaN                NaN  0.162475       0  0.999"
      ]
     },
     "execution_count": 28,
     "metadata": {},
     "output_type": "execute_result"
    }
   ],
   "source": [
    "# take a look at the summary statistics associated with the quantitative variables in your dataset.\n",
    "# percentile list \n",
    "perc =[.20, .40, .60, .80] \n",
    "  \n",
    "# list of dtypes to include \n",
    "include =['object', 'float', 'int'] \n",
    "  \n",
    "# calling describe method \n",
    "churned_profiles = churned.describe(percentiles = perc, include = include).transpose()[['count','freq','top','mean','min','max']]\n",
    "churned_profiles"
   ]
  },
  {
   "cell_type": "code",
   "execution_count": 29,
   "metadata": {},
   "outputs": [
    {
     "data": {
      "text/html": [
       "<div>\n",
       "<style scoped>\n",
       "    .dataframe tbody tr th:only-of-type {\n",
       "        vertical-align: middle;\n",
       "    }\n",
       "\n",
       "    .dataframe tbody tr th {\n",
       "        vertical-align: top;\n",
       "    }\n",
       "\n",
       "    .dataframe thead th {\n",
       "        text-align: right;\n",
       "    }\n",
       "</style>\n",
       "<table border=\"1\" class=\"dataframe\">\n",
       "  <thead>\n",
       "    <tr style=\"text-align: right;\">\n",
       "      <th></th>\n",
       "      <th>count</th>\n",
       "      <th>freq</th>\n",
       "      <th>top</th>\n",
       "      <th>mean</th>\n",
       "      <th>min</th>\n",
       "      <th>max</th>\n",
       "    </tr>\n",
       "  </thead>\n",
       "  <tbody>\n",
       "    <tr>\n",
       "      <td>Attrition_Flag</td>\n",
       "      <td>8500</td>\n",
       "      <td>8500</td>\n",
       "      <td>Existing Customer</td>\n",
       "      <td>NaN</td>\n",
       "      <td>NaN</td>\n",
       "      <td>NaN</td>\n",
       "    </tr>\n",
       "    <tr>\n",
       "      <td>Gender</td>\n",
       "      <td>8500</td>\n",
       "      <td>4428</td>\n",
       "      <td>F</td>\n",
       "      <td>NaN</td>\n",
       "      <td>NaN</td>\n",
       "      <td>NaN</td>\n",
       "    </tr>\n",
       "    <tr>\n",
       "      <td>Education_Level</td>\n",
       "      <td>8500</td>\n",
       "      <td>2641</td>\n",
       "      <td>Graduate</td>\n",
       "      <td>NaN</td>\n",
       "      <td>NaN</td>\n",
       "      <td>NaN</td>\n",
       "    </tr>\n",
       "    <tr>\n",
       "      <td>Marital_Status</td>\n",
       "      <td>8500</td>\n",
       "      <td>3978</td>\n",
       "      <td>Married</td>\n",
       "      <td>NaN</td>\n",
       "      <td>NaN</td>\n",
       "      <td>NaN</td>\n",
       "    </tr>\n",
       "    <tr>\n",
       "      <td>Income_Category</td>\n",
       "      <td>8500</td>\n",
       "      <td>2949</td>\n",
       "      <td>Less than $40K</td>\n",
       "      <td>NaN</td>\n",
       "      <td>NaN</td>\n",
       "      <td>NaN</td>\n",
       "    </tr>\n",
       "    <tr>\n",
       "      <td>Card_Category</td>\n",
       "      <td>8500</td>\n",
       "      <td>7917</td>\n",
       "      <td>Blue</td>\n",
       "      <td>NaN</td>\n",
       "      <td>NaN</td>\n",
       "      <td>NaN</td>\n",
       "    </tr>\n",
       "    <tr>\n",
       "      <td>Credit_Limit</td>\n",
       "      <td>8500</td>\n",
       "      <td>NaN</td>\n",
       "      <td>NaN</td>\n",
       "      <td>8726.88</td>\n",
       "      <td>1438.3</td>\n",
       "      <td>34516</td>\n",
       "    </tr>\n",
       "    <tr>\n",
       "      <td>Avg_Open_To_Buy</td>\n",
       "      <td>8500</td>\n",
       "      <td>NaN</td>\n",
       "      <td>NaN</td>\n",
       "      <td>7470.27</td>\n",
       "      <td>15</td>\n",
       "      <td>34516</td>\n",
       "    </tr>\n",
       "    <tr>\n",
       "      <td>Total_Amt_Chng_Q4_Q1</td>\n",
       "      <td>8500</td>\n",
       "      <td>NaN</td>\n",
       "      <td>NaN</td>\n",
       "      <td>0.77251</td>\n",
       "      <td>0.256</td>\n",
       "      <td>3.397</td>\n",
       "    </tr>\n",
       "    <tr>\n",
       "      <td>Total_Ct_Chng_Q4_Q1</td>\n",
       "      <td>8500</td>\n",
       "      <td>NaN</td>\n",
       "      <td>NaN</td>\n",
       "      <td>0.742434</td>\n",
       "      <td>0.028</td>\n",
       "      <td>3.714</td>\n",
       "    </tr>\n",
       "    <tr>\n",
       "      <td>Avg_Utilization_Ratio</td>\n",
       "      <td>8500</td>\n",
       "      <td>NaN</td>\n",
       "      <td>NaN</td>\n",
       "      <td>0.296412</td>\n",
       "      <td>0</td>\n",
       "      <td>0.994</td>\n",
       "    </tr>\n",
       "  </tbody>\n",
       "</table>\n",
       "</div>"
      ],
      "text/plain": [
       "                      count  freq                top      mean     min    max\n",
       "Attrition_Flag         8500  8500  Existing Customer       NaN     NaN    NaN\n",
       "Gender                 8500  4428                  F       NaN     NaN    NaN\n",
       "Education_Level        8500  2641           Graduate       NaN     NaN    NaN\n",
       "Marital_Status         8500  3978            Married       NaN     NaN    NaN\n",
       "Income_Category        8500  2949     Less than $40K       NaN     NaN    NaN\n",
       "Card_Category          8500  7917               Blue       NaN     NaN    NaN\n",
       "Credit_Limit           8500   NaN                NaN   8726.88  1438.3  34516\n",
       "Avg_Open_To_Buy        8500   NaN                NaN   7470.27      15  34516\n",
       "Total_Amt_Chng_Q4_Q1   8500   NaN                NaN   0.77251   0.256  3.397\n",
       "Total_Ct_Chng_Q4_Q1    8500   NaN                NaN  0.742434   0.028  3.714\n",
       "Avg_Utilization_Ratio  8500   NaN                NaN  0.296412       0  0.994"
      ]
     },
     "execution_count": 29,
     "metadata": {},
     "output_type": "execute_result"
    }
   ],
   "source": [
    "# calling describe method \n",
    "notchurned_profiles = notchurned.describe(percentiles = perc, include = include).transpose()[['count','freq','top','mean','min','max']]\n",
    "notchurned_profiles"
   ]
  },
  {
   "cell_type": "markdown",
   "metadata": {},
   "source": [
    "## 2_Prepare Data for Modelling \n",
    "\n",
    "Before we start training a model we must prepare our data. Different steps that we can undertake:\n",
    "\n",
    "- Create e new data frame for modelling \n",
    "- Drop unnecessary colums\n",
    "- Control missing ve duplicate variables / Handling the missing values\n",
    "- Convert the non-numeric data into numeric\n",
    "- Split the data into train and test sets.\n",
    "- Scale the feature values to a uniform range."
   ]
  },
  {
   "cell_type": "code",
   "execution_count": 30,
   "metadata": {},
   "outputs": [
    {
     "data": {
      "text/html": [
       "<div>\n",
       "<style scoped>\n",
       "    .dataframe tbody tr th:only-of-type {\n",
       "        vertical-align: middle;\n",
       "    }\n",
       "\n",
       "    .dataframe tbody tr th {\n",
       "        vertical-align: top;\n",
       "    }\n",
       "\n",
       "    .dataframe thead th {\n",
       "        text-align: right;\n",
       "    }\n",
       "</style>\n",
       "<table border=\"1\" class=\"dataframe\">\n",
       "  <thead>\n",
       "    <tr style=\"text-align: right;\">\n",
       "      <th></th>\n",
       "      <th>Customer_Age</th>\n",
       "      <th>Gender</th>\n",
       "      <th>Dependent_count</th>\n",
       "      <th>Education_Level</th>\n",
       "      <th>Marital_Status</th>\n",
       "      <th>Income_Category</th>\n",
       "      <th>Card_Category</th>\n",
       "      <th>Months_on_book</th>\n",
       "      <th>Total_Relationship_Count</th>\n",
       "      <th>Months_Inactive_12_mon</th>\n",
       "      <th>Contacts_Count_12_mon</th>\n",
       "      <th>Credit_Limit</th>\n",
       "      <th>Total_Revolving_Bal</th>\n",
       "      <th>Avg_Open_To_Buy</th>\n",
       "      <th>Total_Amt_Chng_Q4_Q1</th>\n",
       "      <th>Total_Trans_Amt</th>\n",
       "      <th>Total_Trans_Ct</th>\n",
       "      <th>Total_Ct_Chng_Q4_Q1</th>\n",
       "      <th>Avg_Utilization_Ratio</th>\n",
       "      <th>AttritedFlag</th>\n",
       "    </tr>\n",
       "    <tr>\n",
       "      <th>CLIENTNUM</th>\n",
       "      <th></th>\n",
       "      <th></th>\n",
       "      <th></th>\n",
       "      <th></th>\n",
       "      <th></th>\n",
       "      <th></th>\n",
       "      <th></th>\n",
       "      <th></th>\n",
       "      <th></th>\n",
       "      <th></th>\n",
       "      <th></th>\n",
       "      <th></th>\n",
       "      <th></th>\n",
       "      <th></th>\n",
       "      <th></th>\n",
       "      <th></th>\n",
       "      <th></th>\n",
       "      <th></th>\n",
       "      <th></th>\n",
       "      <th></th>\n",
       "    </tr>\n",
       "  </thead>\n",
       "  <tbody>\n",
       "    <tr>\n",
       "      <td>768805383</td>\n",
       "      <td>45</td>\n",
       "      <td>M</td>\n",
       "      <td>3</td>\n",
       "      <td>High School</td>\n",
       "      <td>Married</td>\n",
       "      <td>$60K - $80K</td>\n",
       "      <td>Blue</td>\n",
       "      <td>39</td>\n",
       "      <td>5</td>\n",
       "      <td>1</td>\n",
       "      <td>3</td>\n",
       "      <td>12691.0</td>\n",
       "      <td>777</td>\n",
       "      <td>11914.0</td>\n",
       "      <td>1.335</td>\n",
       "      <td>1144</td>\n",
       "      <td>42</td>\n",
       "      <td>1.625</td>\n",
       "      <td>0.061</td>\n",
       "      <td>0</td>\n",
       "    </tr>\n",
       "    <tr>\n",
       "      <td>818770008</td>\n",
       "      <td>49</td>\n",
       "      <td>F</td>\n",
       "      <td>5</td>\n",
       "      <td>Graduate</td>\n",
       "      <td>Single</td>\n",
       "      <td>Less than $40K</td>\n",
       "      <td>Blue</td>\n",
       "      <td>44</td>\n",
       "      <td>6</td>\n",
       "      <td>1</td>\n",
       "      <td>2</td>\n",
       "      <td>8256.0</td>\n",
       "      <td>864</td>\n",
       "      <td>7392.0</td>\n",
       "      <td>1.541</td>\n",
       "      <td>1291</td>\n",
       "      <td>33</td>\n",
       "      <td>3.714</td>\n",
       "      <td>0.105</td>\n",
       "      <td>0</td>\n",
       "    </tr>\n",
       "    <tr>\n",
       "      <td>713982108</td>\n",
       "      <td>51</td>\n",
       "      <td>M</td>\n",
       "      <td>3</td>\n",
       "      <td>Graduate</td>\n",
       "      <td>Married</td>\n",
       "      <td>$80K - $120K</td>\n",
       "      <td>Blue</td>\n",
       "      <td>36</td>\n",
       "      <td>4</td>\n",
       "      <td>1</td>\n",
       "      <td>0</td>\n",
       "      <td>3418.0</td>\n",
       "      <td>0</td>\n",
       "      <td>3418.0</td>\n",
       "      <td>2.594</td>\n",
       "      <td>1887</td>\n",
       "      <td>20</td>\n",
       "      <td>2.333</td>\n",
       "      <td>0.000</td>\n",
       "      <td>0</td>\n",
       "    </tr>\n",
       "    <tr>\n",
       "      <td>769911858</td>\n",
       "      <td>40</td>\n",
       "      <td>F</td>\n",
       "      <td>4</td>\n",
       "      <td>High School</td>\n",
       "      <td>Unknown</td>\n",
       "      <td>Less than $40K</td>\n",
       "      <td>Blue</td>\n",
       "      <td>34</td>\n",
       "      <td>3</td>\n",
       "      <td>4</td>\n",
       "      <td>1</td>\n",
       "      <td>3313.0</td>\n",
       "      <td>2517</td>\n",
       "      <td>796.0</td>\n",
       "      <td>1.405</td>\n",
       "      <td>1171</td>\n",
       "      <td>20</td>\n",
       "      <td>2.333</td>\n",
       "      <td>0.760</td>\n",
       "      <td>0</td>\n",
       "    </tr>\n",
       "    <tr>\n",
       "      <td>709106358</td>\n",
       "      <td>40</td>\n",
       "      <td>M</td>\n",
       "      <td>3</td>\n",
       "      <td>Uneducated</td>\n",
       "      <td>Married</td>\n",
       "      <td>$60K - $80K</td>\n",
       "      <td>Blue</td>\n",
       "      <td>21</td>\n",
       "      <td>5</td>\n",
       "      <td>1</td>\n",
       "      <td>0</td>\n",
       "      <td>4716.0</td>\n",
       "      <td>0</td>\n",
       "      <td>4716.0</td>\n",
       "      <td>2.175</td>\n",
       "      <td>816</td>\n",
       "      <td>28</td>\n",
       "      <td>2.500</td>\n",
       "      <td>0.000</td>\n",
       "      <td>0</td>\n",
       "    </tr>\n",
       "  </tbody>\n",
       "</table>\n",
       "</div>"
      ],
      "text/plain": [
       "           Customer_Age Gender  Dependent_count Education_Level  \\\n",
       "CLIENTNUM                                                         \n",
       "768805383            45      M                3     High School   \n",
       "818770008            49      F                5        Graduate   \n",
       "713982108            51      M                3        Graduate   \n",
       "769911858            40      F                4     High School   \n",
       "709106358            40      M                3      Uneducated   \n",
       "\n",
       "          Marital_Status Income_Category Card_Category  Months_on_book  \\\n",
       "CLIENTNUM                                                                \n",
       "768805383        Married     $60K - $80K          Blue              39   \n",
       "818770008         Single  Less than $40K          Blue              44   \n",
       "713982108        Married    $80K - $120K          Blue              36   \n",
       "769911858        Unknown  Less than $40K          Blue              34   \n",
       "709106358        Married     $60K - $80K          Blue              21   \n",
       "\n",
       "           Total_Relationship_Count  Months_Inactive_12_mon  \\\n",
       "CLIENTNUM                                                     \n",
       "768805383                         5                       1   \n",
       "818770008                         6                       1   \n",
       "713982108                         4                       1   \n",
       "769911858                         3                       4   \n",
       "709106358                         5                       1   \n",
       "\n",
       "           Contacts_Count_12_mon  Credit_Limit  Total_Revolving_Bal  \\\n",
       "CLIENTNUM                                                             \n",
       "768805383                      3       12691.0                  777   \n",
       "818770008                      2        8256.0                  864   \n",
       "713982108                      0        3418.0                    0   \n",
       "769911858                      1        3313.0                 2517   \n",
       "709106358                      0        4716.0                    0   \n",
       "\n",
       "           Avg_Open_To_Buy  Total_Amt_Chng_Q4_Q1  Total_Trans_Amt  \\\n",
       "CLIENTNUM                                                           \n",
       "768805383          11914.0                 1.335             1144   \n",
       "818770008           7392.0                 1.541             1291   \n",
       "713982108           3418.0                 2.594             1887   \n",
       "769911858            796.0                 1.405             1171   \n",
       "709106358           4716.0                 2.175              816   \n",
       "\n",
       "           Total_Trans_Ct  Total_Ct_Chng_Q4_Q1  Avg_Utilization_Ratio  \\\n",
       "CLIENTNUM                                                               \n",
       "768805383              42                1.625                  0.061   \n",
       "818770008              33                3.714                  0.105   \n",
       "713982108              20                2.333                  0.000   \n",
       "769911858              20                2.333                  0.760   \n",
       "709106358              28                2.500                  0.000   \n",
       "\n",
       "           AttritedFlag  \n",
       "CLIENTNUM                \n",
       "768805383             0  \n",
       "818770008             0  \n",
       "713982108             0  \n",
       "769911858             0  \n",
       "709106358             0  "
      ]
     },
     "execution_count": 30,
     "metadata": {},
     "output_type": "execute_result"
    }
   ],
   "source": [
    "# Create new dataframe for modelling\n",
    "# Drop unnecessary columns\n",
    "model_df = df.drop(columns= ['Attrition_Flag','Age_Range'])\n",
    "\n",
    "model_df.head()"
   ]
  },
  {
   "cell_type": "code",
   "execution_count": 31,
   "metadata": {},
   "outputs": [
    {
     "name": "stdout",
     "output_type": "stream",
     "text": [
      "Duplicate Variable: False\n",
      "No Missing valeus are found\n"
     ]
    }
   ],
   "source": [
    "# Check for duplicates, True if duplicates are present\n",
    "print ('Duplicate Variable:' , model_df.duplicated().any())\n",
    "\n",
    "\n",
    "# the number of columns with any missing values\n",
    "if model_df.columns[model_df.isnull().sum() > 0].shape[0] > 0:\n",
    "    model_df.columns[model_df.isnull.sum() > 0]\n",
    "else:\n",
    "    print(\"No Missing valeus are found\")"
   ]
  },
  {
   "cell_type": "code",
   "execution_count": 32,
   "metadata": {},
   "outputs": [],
   "source": [
    "# Convert the non-numeric data into numeric\n",
    "\n",
    "# Import LabelEncoder\n",
    "from sklearn.preprocessing import LabelEncoder\n",
    "\n",
    "# Instantiate LabelEncoder\n",
    "le = LabelEncoder()\n",
    "\n",
    "# Iterate over all the values of each column and extract their dtypes\n",
    "for col in model_df.columns.values:\n",
    "    # Compare if the dtype is object\n",
    "    if model_df[col].dtypes=='object':\n",
    "    # Use LabelEncoder to do the numeric transformation\n",
    "        model_df[col]=le.fit_transform(model_df[col])"
   ]
  },
  {
   "cell_type": "code",
   "execution_count": 33,
   "metadata": {},
   "outputs": [
    {
     "data": {
      "text/html": [
       "<div>\n",
       "<style scoped>\n",
       "    .dataframe tbody tr th:only-of-type {\n",
       "        vertical-align: middle;\n",
       "    }\n",
       "\n",
       "    .dataframe tbody tr th {\n",
       "        vertical-align: top;\n",
       "    }\n",
       "\n",
       "    .dataframe thead th {\n",
       "        text-align: right;\n",
       "    }\n",
       "</style>\n",
       "<table border=\"1\" class=\"dataframe\">\n",
       "  <thead>\n",
       "    <tr style=\"text-align: right;\">\n",
       "      <th></th>\n",
       "      <th>Customer_Age</th>\n",
       "      <th>Gender</th>\n",
       "      <th>Dependent_count</th>\n",
       "      <th>Education_Level</th>\n",
       "      <th>Marital_Status</th>\n",
       "      <th>Income_Category</th>\n",
       "      <th>Card_Category</th>\n",
       "      <th>Months_on_book</th>\n",
       "      <th>Total_Relationship_Count</th>\n",
       "      <th>Months_Inactive_12_mon</th>\n",
       "      <th>Contacts_Count_12_mon</th>\n",
       "      <th>Credit_Limit</th>\n",
       "      <th>Total_Revolving_Bal</th>\n",
       "      <th>Avg_Open_To_Buy</th>\n",
       "      <th>Total_Amt_Chng_Q4_Q1</th>\n",
       "      <th>Total_Trans_Amt</th>\n",
       "      <th>Total_Trans_Ct</th>\n",
       "      <th>Total_Ct_Chng_Q4_Q1</th>\n",
       "      <th>Avg_Utilization_Ratio</th>\n",
       "      <th>AttritedFlag</th>\n",
       "    </tr>\n",
       "    <tr>\n",
       "      <th>CLIENTNUM</th>\n",
       "      <th></th>\n",
       "      <th></th>\n",
       "      <th></th>\n",
       "      <th></th>\n",
       "      <th></th>\n",
       "      <th></th>\n",
       "      <th></th>\n",
       "      <th></th>\n",
       "      <th></th>\n",
       "      <th></th>\n",
       "      <th></th>\n",
       "      <th></th>\n",
       "      <th></th>\n",
       "      <th></th>\n",
       "      <th></th>\n",
       "      <th></th>\n",
       "      <th></th>\n",
       "      <th></th>\n",
       "      <th></th>\n",
       "      <th></th>\n",
       "    </tr>\n",
       "  </thead>\n",
       "  <tbody>\n",
       "    <tr>\n",
       "      <td>768805383</td>\n",
       "      <td>45</td>\n",
       "      <td>1</td>\n",
       "      <td>3</td>\n",
       "      <td>3</td>\n",
       "      <td>1</td>\n",
       "      <td>2</td>\n",
       "      <td>0</td>\n",
       "      <td>39</td>\n",
       "      <td>5</td>\n",
       "      <td>1</td>\n",
       "      <td>3</td>\n",
       "      <td>12691.0</td>\n",
       "      <td>777</td>\n",
       "      <td>11914.0</td>\n",
       "      <td>1.335</td>\n",
       "      <td>1144</td>\n",
       "      <td>42</td>\n",
       "      <td>1.625</td>\n",
       "      <td>0.061</td>\n",
       "      <td>0</td>\n",
       "    </tr>\n",
       "    <tr>\n",
       "      <td>818770008</td>\n",
       "      <td>49</td>\n",
       "      <td>0</td>\n",
       "      <td>5</td>\n",
       "      <td>2</td>\n",
       "      <td>2</td>\n",
       "      <td>4</td>\n",
       "      <td>0</td>\n",
       "      <td>44</td>\n",
       "      <td>6</td>\n",
       "      <td>1</td>\n",
       "      <td>2</td>\n",
       "      <td>8256.0</td>\n",
       "      <td>864</td>\n",
       "      <td>7392.0</td>\n",
       "      <td>1.541</td>\n",
       "      <td>1291</td>\n",
       "      <td>33</td>\n",
       "      <td>3.714</td>\n",
       "      <td>0.105</td>\n",
       "      <td>0</td>\n",
       "    </tr>\n",
       "    <tr>\n",
       "      <td>713982108</td>\n",
       "      <td>51</td>\n",
       "      <td>1</td>\n",
       "      <td>3</td>\n",
       "      <td>2</td>\n",
       "      <td>1</td>\n",
       "      <td>3</td>\n",
       "      <td>0</td>\n",
       "      <td>36</td>\n",
       "      <td>4</td>\n",
       "      <td>1</td>\n",
       "      <td>0</td>\n",
       "      <td>3418.0</td>\n",
       "      <td>0</td>\n",
       "      <td>3418.0</td>\n",
       "      <td>2.594</td>\n",
       "      <td>1887</td>\n",
       "      <td>20</td>\n",
       "      <td>2.333</td>\n",
       "      <td>0.000</td>\n",
       "      <td>0</td>\n",
       "    </tr>\n",
       "    <tr>\n",
       "      <td>769911858</td>\n",
       "      <td>40</td>\n",
       "      <td>0</td>\n",
       "      <td>4</td>\n",
       "      <td>3</td>\n",
       "      <td>3</td>\n",
       "      <td>4</td>\n",
       "      <td>0</td>\n",
       "      <td>34</td>\n",
       "      <td>3</td>\n",
       "      <td>4</td>\n",
       "      <td>1</td>\n",
       "      <td>3313.0</td>\n",
       "      <td>2517</td>\n",
       "      <td>796.0</td>\n",
       "      <td>1.405</td>\n",
       "      <td>1171</td>\n",
       "      <td>20</td>\n",
       "      <td>2.333</td>\n",
       "      <td>0.760</td>\n",
       "      <td>0</td>\n",
       "    </tr>\n",
       "    <tr>\n",
       "      <td>709106358</td>\n",
       "      <td>40</td>\n",
       "      <td>1</td>\n",
       "      <td>3</td>\n",
       "      <td>5</td>\n",
       "      <td>1</td>\n",
       "      <td>2</td>\n",
       "      <td>0</td>\n",
       "      <td>21</td>\n",
       "      <td>5</td>\n",
       "      <td>1</td>\n",
       "      <td>0</td>\n",
       "      <td>4716.0</td>\n",
       "      <td>0</td>\n",
       "      <td>4716.0</td>\n",
       "      <td>2.175</td>\n",
       "      <td>816</td>\n",
       "      <td>28</td>\n",
       "      <td>2.500</td>\n",
       "      <td>0.000</td>\n",
       "      <td>0</td>\n",
       "    </tr>\n",
       "  </tbody>\n",
       "</table>\n",
       "</div>"
      ],
      "text/plain": [
       "           Customer_Age  Gender  Dependent_count  Education_Level  \\\n",
       "CLIENTNUM                                                           \n",
       "768805383            45       1                3                3   \n",
       "818770008            49       0                5                2   \n",
       "713982108            51       1                3                2   \n",
       "769911858            40       0                4                3   \n",
       "709106358            40       1                3                5   \n",
       "\n",
       "           Marital_Status  Income_Category  Card_Category  Months_on_book  \\\n",
       "CLIENTNUM                                                                   \n",
       "768805383               1                2              0              39   \n",
       "818770008               2                4              0              44   \n",
       "713982108               1                3              0              36   \n",
       "769911858               3                4              0              34   \n",
       "709106358               1                2              0              21   \n",
       "\n",
       "           Total_Relationship_Count  Months_Inactive_12_mon  \\\n",
       "CLIENTNUM                                                     \n",
       "768805383                         5                       1   \n",
       "818770008                         6                       1   \n",
       "713982108                         4                       1   \n",
       "769911858                         3                       4   \n",
       "709106358                         5                       1   \n",
       "\n",
       "           Contacts_Count_12_mon  Credit_Limit  Total_Revolving_Bal  \\\n",
       "CLIENTNUM                                                             \n",
       "768805383                      3       12691.0                  777   \n",
       "818770008                      2        8256.0                  864   \n",
       "713982108                      0        3418.0                    0   \n",
       "769911858                      1        3313.0                 2517   \n",
       "709106358                      0        4716.0                    0   \n",
       "\n",
       "           Avg_Open_To_Buy  Total_Amt_Chng_Q4_Q1  Total_Trans_Amt  \\\n",
       "CLIENTNUM                                                           \n",
       "768805383          11914.0                 1.335             1144   \n",
       "818770008           7392.0                 1.541             1291   \n",
       "713982108           3418.0                 2.594             1887   \n",
       "769911858            796.0                 1.405             1171   \n",
       "709106358           4716.0                 2.175              816   \n",
       "\n",
       "           Total_Trans_Ct  Total_Ct_Chng_Q4_Q1  Avg_Utilization_Ratio  \\\n",
       "CLIENTNUM                                                               \n",
       "768805383              42                1.625                  0.061   \n",
       "818770008              33                3.714                  0.105   \n",
       "713982108              20                2.333                  0.000   \n",
       "769911858              20                2.333                  0.760   \n",
       "709106358              28                2.500                  0.000   \n",
       "\n",
       "           AttritedFlag  \n",
       "CLIENTNUM                \n",
       "768805383             0  \n",
       "818770008             0  \n",
       "713982108             0  \n",
       "769911858             0  \n",
       "709106358             0  "
      ]
     },
     "execution_count": 33,
     "metadata": {},
     "output_type": "execute_result"
    }
   ],
   "source": [
    "model_df.head()"
   ]
  },
  {
   "cell_type": "code",
   "execution_count": 34,
   "metadata": {},
   "outputs": [],
   "source": [
    "# Import train_test_split\n",
    "from sklearn.model_selection import train_test_split\n",
    "\n",
    "#Split into explanatory and response variables\n",
    "X = model_df.drop('AttritedFlag', axis=1)\n",
    "y = df['AttritedFlag']\n",
    "\n",
    "#Split into train and test\n",
    "X_train, X_test, y_train, y_test = train_test_split(X, y, test_size = .30, random_state=42) "
   ]
  },
  {
   "cell_type": "code",
   "execution_count": 35,
   "metadata": {},
   "outputs": [
    {
     "name": "stdout",
     "output_type": "stream",
     "text": [
      "(10127, 19)\n",
      "(10127,)\n"
     ]
    }
   ],
   "source": [
    "print(X.shape)\n",
    "print(y.shape)"
   ]
  },
  {
   "cell_type": "code",
   "execution_count": 36,
   "metadata": {},
   "outputs": [],
   "source": [
    "# Import MinMaxScaler\n",
    "from sklearn.preprocessing import MinMaxScaler\n",
    "\n",
    "# Instantiate MinMaxScaler and use it to rescale X_train and X_test\n",
    "scaler = MinMaxScaler(feature_range=(0, 1))\n",
    "rescaledX_train = scaler.fit_transform(X_train)\n",
    "rescaledX_test = scaler.fit_transform(X_test)"
   ]
  },
  {
   "cell_type": "markdown",
   "metadata": {},
   "source": [
    "## 3_Model Data\n",
    "\n",
    "Essentially, predicting if a credit card customer will be churned or not is a classification task. Our dataset contains more instances that correspond to \"Not Churned\" status than instances corresponding to \"Churned\" status. Specifically, out of 690 instances, there are 8,500 (84%) customers that got not churned and 1,627 (16%) customers that got churned.\n",
    "\n",
    "This gives us a benchmark. A good machine learning model should be able to accurately predict the status of the applications with respect to these statistics.\n",
    "\n",
    "Which model should we pick? A question to ask is: are the features that affect the credit card customer churned process correlated with each other? Although we can measure correlation, that is outside the scope of this notebook, so we'll rely on our intuition that they indeed are correlated for now. Because of this correlation, we'll take advantage of the fact that generalized linear models perform well in these cases. Let's start our machine learning modeling with a Logistic Regression model (a generalized linear model)."
   ]
  },
  {
   "cell_type": "code",
   "execution_count": 37,
   "metadata": {},
   "outputs": [
    {
     "data": {
      "text/plain": [
       "LogisticRegression(C=1.0, class_weight=None, dual=False, fit_intercept=True,\n",
       "                   intercept_scaling=1, l1_ratio=None, max_iter=100,\n",
       "                   multi_class='warn', n_jobs=None, penalty='l2',\n",
       "                   random_state=None, solver='lbfgs', tol=0.0001, verbose=0,\n",
       "                   warm_start=False)"
      ]
     },
     "execution_count": 37,
     "metadata": {},
     "output_type": "execute_result"
    }
   ],
   "source": [
    "# Import LogisticRegression\n",
    "from sklearn.linear_model import LogisticRegression\n",
    "\n",
    "# Instantiate a LogisticRegression classifier with default parameter values\n",
    "logreg = LogisticRegression(solver=\"lbfgs\")\n",
    "\n",
    "# Fit logreg to the train set\n",
    "logreg.fit(rescaledX_train, y_train)"
   ]
  },
  {
   "cell_type": "markdown",
   "metadata": {},
   "source": [
    "## 4_Making predictions and evaluating performance\n",
    "\n",
    "We will now evaluate our model on the test set with respect to classification accuracy. But we will also take a look the model's confusion matrix. \n",
    "In the case of predicting credit card customers churned, it is equally important to see if our machine learning model is able to predict the churn status of the customers as churned that originally got churned. \n",
    "\n",
    "The confusion matrix helps us to view our model's performance from these aspects."
   ]
  },
  {
   "cell_type": "code",
   "execution_count": 38,
   "metadata": {},
   "outputs": [
    {
     "name": "stdout",
     "output_type": "stream",
     "text": [
      "Accuracy of logistic regression classifier:  0.8920697597894044\n"
     ]
    },
    {
     "data": {
      "text/plain": [
       "array([[2495,   48],\n",
       "       [ 280,  216]], dtype=int64)"
      ]
     },
     "execution_count": 38,
     "metadata": {},
     "output_type": "execute_result"
    }
   ],
   "source": [
    "# Import confusion_matrix\n",
    "from sklearn.metrics import confusion_matrix\n",
    "\n",
    "# Use logreg to predict instances from the test set and store it\n",
    "y_pred = logreg.predict(rescaledX_test)\n",
    "\n",
    "# Get the accuracy score of logreg model and print it\n",
    "print(\"Accuracy of logistic regression classifier: \", logreg.score(rescaledX_test, y_test))\n",
    "\n",
    "# Print the confusion matrix of the logreg model\n",
    "confusion_matrix(y_test, y_pred)"
   ]
  },
  {
   "cell_type": "code",
   "execution_count": 39,
   "metadata": {},
   "outputs": [
    {
     "name": "stdout",
     "output_type": "stream",
     "text": [
      "Logistic Regression:\n",
      "Traning Model accruracy: 90.45%\n",
      "Test Model accruracy: 89.21%\n"
     ]
    }
   ],
   "source": [
    "print('Logistic Regression:')\n",
    "print('Traning Model accruracy: {:.2%}'.format(logreg.score(rescaledX_train, y_train)))\n",
    "print('Test Model accruracy: {:.2%}'.format(logreg.score(rescaledX_test, y_test)))"
   ]
  },
  {
   "cell_type": "markdown",
   "metadata": {},
   "source": [
    "## 5_Results\n",
    "\n",
    "Our model was pretty good! It was able to yield an accuracy score of almost **89%**.\n",
    "\n",
    "The result of prediting customer churn, our model score;\n",
    "\n",
    "* Traning Model accruracy: **90.45%**\n",
    "* Test Model accruracy: **89.21%**\n",
    "\n",
    "While building this customer churn predictor, we tackled some of the most widely-known preprocessing steps such as scaling, label encoding, and missing value imputation. We finished with logistic regression model to predict customer churn."
   ]
  },
  {
   "cell_type": "code",
   "execution_count": null,
   "metadata": {},
   "outputs": [],
   "source": []
  },
  {
   "cell_type": "code",
   "execution_count": null,
   "metadata": {},
   "outputs": [],
   "source": []
  }
 ],
 "metadata": {
  "kernelspec": {
   "display_name": "Python 3",
   "language": "python",
   "name": "python3"
  },
  "language_info": {
   "codemirror_mode": {
    "name": "ipython",
    "version": 3
   },
   "file_extension": ".py",
   "mimetype": "text/x-python",
   "name": "python",
   "nbconvert_exporter": "python",
   "pygments_lexer": "ipython3",
   "version": "3.7.4"
  }
 },
 "nbformat": 4,
 "nbformat_minor": 2
}
